{
 "cells": [
  {
   "cell_type": "markdown",
   "metadata": {},
   "source": [
    "### Reference: Topic modeling with spaCy & scikit-learn LDA\n",
    "#### https://www.kaggle.com/thebrownviking20/topic-modelling-with-spacy-and-scikit-learn/notebook"
   ]
  },
  {
   "cell_type": "code",
   "execution_count": 40,
   "metadata": {},
   "outputs": [
    {
     "data": {
      "text/html": [
       "        <script type=\"text/javascript\">\n",
       "        window.PlotlyConfig = {MathJaxConfig: 'local'};\n",
       "        if (window.MathJax) {MathJax.Hub.Config({SVG: {font: \"STIX-Web\"}});}\n",
       "        if (typeof require !== 'undefined') {\n",
       "        require.undef(\"plotly\");\n",
       "        requirejs.config({\n",
       "            paths: {\n",
       "                'plotly': ['https://cdn.plot.ly/plotly-latest.min']\n",
       "            }\n",
       "        });\n",
       "        require(['plotly'], function(Plotly) {\n",
       "            window._Plotly = Plotly;\n",
       "        });\n",
       "        }\n",
       "        </script>\n",
       "        "
      ]
     },
     "metadata": {},
     "output_type": "display_data"
    }
   ],
   "source": [
    "# regular imports\n",
    "import numpy as np\n",
    "import pandas as pd\n",
    "import os\n",
    "import time\n",
    "import string\n",
    "import matplotlib.pyplot as plt\n",
    "\n",
    "from tqdm import tqdm\n",
    "import warnings\n",
    "warnings.filterwarnings('ignore')\n",
    "\n",
    "# imports for scikit-learn & LDA\n",
    "import sklearn\n",
    "from sklearn.decomposition import NMF, LatentDirichletAllocation, TruncatedSVD\n",
    "from sklearn.feature_extraction.text import TfidfVectorizer, CountVectorizer\n",
    "from sklearn.manifold import TSNE\n",
    "import concurrent.futures\n",
    "\n",
    "# imports for scikit-learn & LDA\n",
    "import pyLDAvis.sklearn\n",
    "from pylab import bone, pcolor, colorbar, plot, show, rcParams, savefig\n",
    "\n",
    "# Plotly based imports for visualization\n",
    "from plotly import tools\n",
    "import plotly.plotly as py\n",
    "from plotly.offline import init_notebook_mode, iplot\n",
    "init_notebook_mode(connected=True)\n",
    "import plotly.graph_objs as go\n",
    "import plotly.figure_factory as ff\n",
    "\n",
    "# spaCy based imports\n",
    "import spacy\n",
    "from spacy.lang.en.stop_words import STOP_WORDS\n",
    "from spacy.lang.en import English"
   ]
  },
  {
   "cell_type": "code",
   "execution_count": 2,
   "metadata": {},
   "outputs": [],
   "source": [
    "# Load the spacy model installed (using the medium model)\n",
    "nlp = spacy.load('en_core_web_md')\n",
    "\n",
    "# Define the working directory & raw input datasets\n",
    "rel_path = './'\n",
    "infile = '050319_acled_all.csv'\n",
    "\n",
    "# Define the directory for saving LDA visualizations as HTML files\n",
    "lda_vis_path = './lda_vis/'\n",
    "\n",
    "# Read in the raw file\n",
    "df = pd.read_csv(os.path.join(rel_path, infile))\n",
    "\n",
    "# Define the punctuations & stop words\n",
    "punctuations = string.punctuation\n",
    "stopwords = list(STOP_WORDS)"
   ]
  },
  {
   "cell_type": "code",
   "execution_count": 5,
   "metadata": {},
   "outputs": [
    {
     "data": {
      "text/plain": [
       "'27 April. Rioters blocked a road in Save to protest the legislative election. Police called for reinforcements to control the situation. Injuries on both sides were reported. [size=no report]'"
      ]
     },
     "execution_count": 5,
     "metadata": {},
     "output_type": "execute_result"
    }
   ],
   "source": [
    "df.notes[3]"
   ]
  },
  {
   "cell_type": "markdown",
   "metadata": {},
   "source": [
    "#### Named Entity Recognition"
   ]
  },
  {
   "cell_type": "code",
   "execution_count": 7,
   "metadata": {},
   "outputs": [
    {
     "data": {
      "text/html": [
       "<div class=\"entities\" style=\"line-height: 2.5; direction: ltr\">\n",
       "<mark class=\"entity\" style=\"background: #bfe1d9; padding: 0.45em 0.6em; margin: 0 0.25em; line-height: 1; border-radius: 0.35em; box-decoration-break: clone; -webkit-box-decoration-break: clone\">\n",
       "    27 April\n",
       "    <span style=\"font-size: 0.8em; font-weight: bold; line-height: 1; border-radius: 0.35em; text-transform: uppercase; vertical-align: middle; margin-left: 0.5rem\">DATE</span>\n",
       "</mark>\n",
       ". Unknown actors destroyed election materials of \n",
       "<mark class=\"entity\" style=\"background: #7aecec; padding: 0.45em 0.6em; margin: 0 0.25em; line-height: 1; border-radius: 0.35em; box-decoration-break: clone; -webkit-box-decoration-break: clone\">\n",
       "    the Autonomous National Electoral Commission\n",
       "    <span style=\"font-size: 0.8em; font-weight: bold; line-height: 1; border-radius: 0.35em; text-transform: uppercase; vertical-align: middle; margin-left: 0.5rem\">ORG</span>\n",
       "</mark>\n",
       " (\n",
       "<mark class=\"entity\" style=\"background: #aa9cfc; padding: 0.45em 0.6em; margin: 0 0.25em; line-height: 1; border-radius: 0.35em; box-decoration-break: clone; -webkit-box-decoration-break: clone\">\n",
       "    CENA\n",
       "    <span style=\"font-size: 0.8em; font-weight: bold; line-height: 1; border-radius: 0.35em; text-transform: uppercase; vertical-align: middle; margin-left: 0.5rem\">PERSON</span>\n",
       "</mark>\n",
       ") in \n",
       "<mark class=\"entity\" style=\"background: #aa9cfc; padding: 0.45em 0.6em; margin: 0 0.25em; line-height: 1; border-radius: 0.35em; box-decoration-break: clone; -webkit-box-decoration-break: clone\">\n",
       "    Akpadanou\n",
       "    <span style=\"font-size: 0.8em; font-weight: bold; line-height: 1; border-radius: 0.35em; text-transform: uppercase; vertical-align: middle; margin-left: 0.5rem\">PERSON</span>\n",
       "</mark>\n",
       " ahead of the legislative elections.</div>"
      ],
      "text/plain": [
       "<IPython.core.display.HTML object>"
      ]
     },
     "metadata": {},
     "output_type": "display_data"
    }
   ],
   "source": [
    "doc = nlp(df[\"notes\"][5])\n",
    "spacy.displacy.render(doc, style='ent',jupyter=True)"
   ]
  },
  {
   "cell_type": "markdown",
   "metadata": {},
   "source": [
    "#### Lemmatization"
   ]
  },
  {
   "cell_type": "code",
   "execution_count": 8,
   "metadata": {},
   "outputs": [
    {
     "data": {
      "text/html": [
       "<div class=\"entities\" style=\"line-height: 2.5; direction: ltr\">\n",
       "<mark class=\"entity\" style=\"background: #bfe1d9; padding: 0.45em 0.6em; margin: 0 0.25em; line-height: 1; border-radius: 0.35em; box-decoration-break: clone; -webkit-box-decoration-break: clone\">\n",
       "    27 April\n",
       "    <span style=\"font-size: 0.8em; font-weight: bold; line-height: 1; border-radius: 0.35em; text-transform: uppercase; vertical-align: middle; margin-left: 0.5rem\">DATE</span>\n",
       "</mark>\n",
       " . unknown actor destroy election material of \n",
       "<mark class=\"entity\" style=\"background: #7aecec; padding: 0.45em 0.6em; margin: 0 0.25em; line-height: 1; border-radius: 0.35em; box-decoration-break: clone; -webkit-box-decoration-break: clone\">\n",
       "    the Autonomous National Electoral Commission\n",
       "    <span style=\"font-size: 0.8em; font-weight: bold; line-height: 1; border-radius: 0.35em; text-transform: uppercase; vertical-align: middle; margin-left: 0.5rem\">ORG</span>\n",
       "</mark>\n",
       " ( \n",
       "<mark class=\"entity\" style=\"background: #aa9cfc; padding: 0.45em 0.6em; margin: 0 0.25em; line-height: 1; border-radius: 0.35em; box-decoration-break: clone; -webkit-box-decoration-break: clone\">\n",
       "    CENA\n",
       "    <span style=\"font-size: 0.8em; font-weight: bold; line-height: 1; border-radius: 0.35em; text-transform: uppercase; vertical-align: middle; margin-left: 0.5rem\">PERSON</span>\n",
       "</mark>\n",
       " ) in \n",
       "<mark class=\"entity\" style=\"background: #aa9cfc; padding: 0.45em 0.6em; margin: 0 0.25em; line-height: 1; border-radius: 0.35em; box-decoration-break: clone; -webkit-box-decoration-break: clone\">\n",
       "    Akpadanou\n",
       "    <span style=\"font-size: 0.8em; font-weight: bold; line-height: 1; border-radius: 0.35em; text-transform: uppercase; vertical-align: middle; margin-left: 0.5rem\">PERSON</span>\n",
       "</mark>\n",
       " ahead of the legislative election .</div>"
      ],
      "text/plain": [
       "<IPython.core.display.HTML object>"
      ]
     },
     "metadata": {},
     "output_type": "display_data"
    }
   ],
   "source": [
    "# Lemmatization\n",
    "review = str(\" \".join([i.lemma_ for i in doc]))\n",
    "doc = nlp(review)\n",
    "spacy.displacy.render(doc, style='ent',jupyter=True)"
   ]
  },
  {
   "cell_type": "markdown",
   "metadata": {},
   "source": [
    "#### Part-of-Speech Tagging"
   ]
  },
  {
   "cell_type": "code",
   "execution_count": 9,
   "metadata": {},
   "outputs": [
    {
     "name": "stdout",
     "output_type": "stream",
     "text": [
      "27 => NUM\n",
      "April => PROPN\n",
      ". => PUNCT\n",
      "unknown => ADJ\n",
      "actor => NOUN\n",
      "destroy => VERB\n",
      "election => NOUN\n",
      "material => NOUN\n",
      "of => ADP\n",
      "the => DET\n",
      "Autonomous => PROPN\n",
      "National => PROPN\n",
      "Electoral => PROPN\n",
      "Commission => PROPN\n",
      "( => PUNCT\n",
      "CENA => PROPN\n",
      ") => PUNCT\n",
      "in => ADP\n",
      "Akpadanou => PROPN\n",
      "ahead => ADV\n",
      "of => ADP\n",
      "the => DET\n",
      "legislative => ADJ\n",
      "election => NOUN\n",
      ". => PUNCT\n"
     ]
    }
   ],
   "source": [
    "for i in nlp(review):\n",
    "    print(i,\"=>\",i.pos_)"
   ]
  },
  {
   "cell_type": "markdown",
   "metadata": {},
   "source": [
    "#### Parser function to Tokenize conflict notes"
   ]
  },
  {
   "cell_type": "code",
   "execution_count": 16,
   "metadata": {},
   "outputs": [],
   "source": [
    "# Parser for conlfict notes\n",
    "parser = English()\n",
    "def spacy_tokenizer(note):\n",
    "    mytokens = parser(str(note))\n",
    "    mytokens = [ word.lemma_.lower().strip() if word.lemma_ != \"-PRON-\" else word.lower_ for word in mytokens ]\n",
    "    mytokens = [ word for word in mytokens if word not in stopwords and word not in punctuations ]\n",
    "    mytokens = \" \".join([i for i in mytokens])\n",
    "    return mytokens"
   ]
  },
  {
   "cell_type": "code",
   "execution_count": 15,
   "metadata": {},
   "outputs": [
    {
     "name": "stdout",
     "output_type": "stream",
     "text": [
      "\n",
      "------ Raw Note ------\n",
      " 27 April. Unknown actors destroyed election materials of the Autonomous National Electoral Commission (CENA) in Akpadanou ahead of the legislative elections.\n",
      "\n",
      "---- Parsed Note ----\n",
      " ['27', 'april', 'unknown', 'actor', 'destroy', 'election', 'material', 'autonomous', 'national', 'electoral', 'commission', 'cena', 'akpadanou', 'ahead', 'legislative', 'election']\n"
     ]
    }
   ],
   "source": [
    "conflict = df[\"notes\"][5]\n",
    "print('\\n------ Raw Note ------\\n', conflict)\n",
    "print('\\n---- Parsed Note ----\\n', spacy_tokenizer(conflict))"
   ]
  },
  {
   "cell_type": "code",
   "execution_count": 17,
   "metadata": {},
   "outputs": [
    {
     "name": "stderr",
     "output_type": "stream",
     "text": [
      "100%|██████████| 509157/509157 [03:43<00:00, 2279.10it/s]\n"
     ]
    }
   ],
   "source": [
    "# Tokenizing the entire dataset\n",
    "tqdm.pandas()\n",
    "df[\"processed_notes\"] = df[\"notes\"].progress_apply(spacy_tokenizer)"
   ]
  },
  {
   "cell_type": "markdown",
   "metadata": {},
   "source": [
    "### Topic Modeling"
   ]
  },
  {
   "cell_type": "code",
   "execution_count": 18,
   "metadata": {},
   "outputs": [
    {
     "name": "stderr",
     "output_type": "stream",
     "text": [
      "<>:2: DeprecationWarning:\n",
      "\n",
      "invalid escape sequence \\-\n",
      "\n",
      "<>:2: DeprecationWarning:\n",
      "\n",
      "invalid escape sequence \\-\n",
      "\n",
      "<>:2: DeprecationWarning:\n",
      "\n",
      "invalid escape sequence \\-\n",
      "\n",
      "<ipython-input-18-72af7956ffb4>:2: DeprecationWarning:\n",
      "\n",
      "invalid escape sequence \\-\n",
      "\n"
     ]
    }
   ],
   "source": [
    "# Creating a vectorizer\n",
    "vectorizer = CountVectorizer(min_df=5, max_df=0.9, stop_words='english', lowercase=True, token_pattern='[a-zA-Z\\-][a-zA-Z\\-]{2,}')\n",
    "data_vectorized = vectorizer.fit_transform(df[\"processed_notes\"])"
   ]
  },
  {
   "cell_type": "code",
   "execution_count": 19,
   "metadata": {},
   "outputs": [],
   "source": [
    "# Number of Topics/Clusters to create\n",
    "NUM_TOPICS = 10"
   ]
  },
  {
   "cell_type": "code",
   "execution_count": 20,
   "metadata": {},
   "outputs": [
    {
     "name": "stdout",
     "output_type": "stream",
     "text": [
      "iteration: 1 of max_iter: 10\n",
      "iteration: 2 of max_iter: 10\n",
      "iteration: 3 of max_iter: 10\n",
      "iteration: 4 of max_iter: 10\n",
      "iteration: 5 of max_iter: 10\n",
      "iteration: 6 of max_iter: 10\n",
      "iteration: 7 of max_iter: 10\n",
      "iteration: 8 of max_iter: 10\n",
      "iteration: 9 of max_iter: 10\n",
      "iteration: 10 of max_iter: 10\n",
      "Wall time: 24min 56s\n"
     ]
    }
   ],
   "source": [
    "%%time\n",
    "\n",
    "# Running the LDA model\n",
    "lda = LatentDirichletAllocation(n_components=NUM_TOPICS, max_iter=10, learning_method='online',verbose=True)\n",
    "data_lda = lda.fit_transform(data_vectorized)"
   ]
  },
  {
   "cell_type": "code",
   "execution_count": 38,
   "metadata": {},
   "outputs": [
    {
     "name": "stdout",
     "output_type": "stream",
     "text": [
      "Wall time: 0 ns\n"
     ]
    }
   ],
   "source": [
    "%%time\n",
    "\n",
    "# Running the LDA model\n",
    "my_lda = LatentDirichletAllocation(n_components=NUM_TOPICS, max_iter=2, learning_method='online')"
   ]
  },
  {
   "cell_type": "code",
   "execution_count": 45,
   "metadata": {},
   "outputs": [],
   "source": [
    "# data_lda = lda.fit_transform(data_vectorized)\n",
    "# type(my_lda)\n",
    "# type(vectorizer)\n",
    "data_vectorized = vectorizer.fit_transform(df[\"processed_notes\"])"
   ]
  },
  {
   "cell_type": "code",
   "execution_count": 51,
   "metadata": {},
   "outputs": [
    {
     "data": {
      "text/plain": [
       "10"
      ]
     },
     "execution_count": 51,
     "metadata": {},
     "output_type": "execute_result"
    }
   ],
   "source": [
    "# type(data_vectorized)\n",
    "# len(vectorizer.get_feature_names())\n",
    "NUM_TOPICS"
   ]
  },
  {
   "cell_type": "code",
   "execution_count": 52,
   "metadata": {},
   "outputs": [],
   "source": [
    "lda = LatentDirichletAllocation(n_components=NUM_TOPICS, max_iter=5,\n",
    "                                learning_method='online',\n",
    "                                learning_offset=50.,\n",
    "                                random_state=0)"
   ]
  },
  {
   "cell_type": "code",
   "execution_count": 54,
   "metadata": {},
   "outputs": [
    {
     "name": "stdout",
     "output_type": "stream",
     "text": [
      "Wall time: 24min 3s\n"
     ]
    },
    {
     "data": {
      "text/plain": [
       "LatentDirichletAllocation(batch_size=128, doc_topic_prior=None,\n",
       "             evaluate_every=-1, learning_decay=0.7,\n",
       "             learning_method='online', learning_offset=50.0,\n",
       "             max_doc_update_iter=100, max_iter=5, mean_change_tol=0.001,\n",
       "             n_components=10, n_jobs=None, n_topics=None, perp_tol=0.1,\n",
       "             random_state=0, topic_word_prior=None,\n",
       "             total_samples=1000000.0, verbose=0)"
      ]
     },
     "execution_count": 54,
     "metadata": {},
     "output_type": "execute_result"
    }
   ],
   "source": [
    "%%time\n",
    "lda.fit(data_vectorized)"
   ]
  },
  {
   "cell_type": "code",
   "execution_count": 55,
   "metadata": {},
   "outputs": [],
   "source": [
    "# Functions for printing keywords for each topic\n",
    "def selected_topics(model, vectorizer, top_n=10):\n",
    "    for idx, topic in enumerate(model.components_):\n",
    "        print(\"Topic %d:\" % (idx))\n",
    "        print([(vectorizer.get_feature_names()[i], topic[i])\n",
    "                        for i in topic.argsort()[:-top_n - 1:-1]])"
   ]
  },
  {
   "cell_type": "code",
   "execution_count": 56,
   "metadata": {},
   "outputs": [
    {
     "name": "stdout",
     "output_type": "stream",
     "text": [
      "LDA Model:\n",
      "Topic 0:\n",
      "[('bomb', 20168.683397616383), ('area', 14531.997497493341), ('house', 13101.151029355993), ('road', 12364.8489672896), ('injure', 11830.987120257585), ('civilian', 11539.908587226944), ('hit', 10600.476925249102), ('kill', 10197.848091250584), ('vehicle', 10168.767103843222), ('july', 9973.211162890988)]\n",
      "Topic 1:\n",
      "[('force', 20587.2032216591), ('report', 13423.041634953355), ('pro', 12840.003598229767), ('reportedly', 12084.925447286527), ('area', 11605.393663322573), ('casualty', 11008.828682537158), ('border', 10560.292201913864), ('district', 9681.694719133086), ('houthi', 8178.195460529578), ('governorate', 7035.943598418387)]\n",
      "Topic 2:\n",
      "[('unknown', 11306.268735330885), ('weapon', 8494.757551003835), ('explosion', 7340.348712778293), ('near', 5924.709303393687), ('total', 5514.758487750639), ('involve', 5138.005005686441), ('saturday', 4673.23109813958), ('tfg', 4424.344366672602), ('observe', 3538.550251412824), ('israeli', 2987.94235392474)]\n",
      "Topic 3:\n",
      "[('rebel', 35228.09655894155), ('military', 15540.777652824816), ('coalition', 11685.465900847792), ('troop', 10641.903216908524), ('position', 9726.747994599626), ('grenade', 8638.44979158942), ('unknown', 8440.947432451978), ('fight', 7991.886830358281), ('near', 7982.396055120954), ('airstrike', 6956.244327784336)]\n",
      "Topic 4:\n",
      "[('party', 15875.159304185789), ('activist', 12386.887253983563), ('leader', 11921.107330427707), ('supporter', 10629.227084630604), ('region', 9367.793388813458), ('district', 9044.809412607021), ('election', 6774.587847283564), ('muslim', 6434.980057155099), ('member', 5749.572894860907), ('national', 5732.330249852462)]\n",
      "Topic 5:\n",
      "[('kill', 39423.97231307864), ('militant', 30470.565788295764), ('province', 17844.782921342245), ('force', 15492.240998674939), ('district', 12895.12106876204), ('state', 12245.62111738498), ('attack', 11355.973018617093), ('islamic', 10586.127517130099), ('suspect', 10582.67871241127), ('security', 10321.245670985994)]\n",
      "Topic 6:\n",
      "[('protest', 105986.60268296636), ('government', 42495.461401458415), ('stage', 39515.35722423329), ('demand', 28421.8572501763), ('demonstration', 27270.8599030263), ('hold', 18762.386720403065), ('outside', 17562.37830522198), ('student', 14891.281423253926), ('worker', 12805.575821986053), ('university', 11350.44832381114)]\n",
      "Topic 7:\n",
      "[('report', 21932.880303640675), ('injury', 20060.789784965076), ('fatality', 19310.386745867472), ('force', 17859.15129854087), ('regime', 10752.798902286248), ('shell', 10258.233910727404), ('town', 9180.893257396445), ('carry', 7985.8235196736), ('militia', 7972.393512608173), ('fighter', 7478.5339980440585)]\n",
      "Topic 8:\n",
      "[('police', 55879.218321189466), ('arrest', 14664.606960572803), ('protester', 12566.790673747331), ('security', 9390.333286210587), ('force', 8922.911000990825), ('june', 8910.878817386221), ('activity', 8879.655667009532), ('clash', 7551.758324867143), ('block', 7076.374572991673), ('disperse', 7010.297284446615)]\n",
      "Topic 9:\n",
      "[('attack', 70453.69001430893), ('kill', 60582.895794615004), ('nan', 31923.602188366644), ('injure', 31237.805557975254), ('clash', 31005.65746661414), ('people', 28871.042595640538), ('man', 27317.763606284778), ('village', 24418.74100286125), ('group', 24143.419413186683), ('little', 24042.21977354248)]\n"
     ]
    }
   ],
   "source": [
    "# Keywords for topics clustered by Latent Dirichlet Allocation\n",
    "print(\"LDA Model:\")\n",
    "selected_topics(lda, vectorizer)"
   ]
  },
  {
   "cell_type": "code",
   "execution_count": 57,
   "metadata": {},
   "outputs": [
    {
     "data": {
      "text/html": [
       "\n",
       "<link rel=\"stylesheet\" type=\"text/css\" href=\"https://cdn.rawgit.com/bmabey/pyLDAvis/files/ldavis.v1.0.0.css\">\n",
       "\n",
       "\n",
       "<div id=\"ldavis_el1329629042274826242518644054\"></div>\n",
       "<script type=\"text/javascript\">\n",
       "\n",
       "var ldavis_el1329629042274826242518644054_data = {\"mdsDat\": {\"x\": [135.7316131591797, 382.90228271484375, 50.524932861328125, -1.9924393892288208, -131.40187072753906, 159.6966094970703, -205.42454528808594, -100.38288116455078, 322.6610107421875, 196.07667541503906], \"y\": [297.5733642578125, -133.12112426757812, 103.42899322509766, -95.28717803955078, 213.2234649658203, -273.88775634765625, -19.633325576782227, -279.60186767578125, 137.8855438232422, -41.28706741333008], \"topics\": [1, 2, 3, 4, 5, 6, 7, 8, 9, 10], \"cluster\": [1, 1, 1, 1, 1, 1, 1, 1, 1, 1], \"Freq\": [19.516104070409646, 15.834622103681923, 10.201823918509435, 10.014948216543322, 9.554017495792642, 9.361443169040792, 7.86799562002982, 7.625383689528366, 6.622578200987545, 3.4010835154765133]}, \"tinfo\": {\"Category\": [\"Default\", \"Default\", \"Default\", \"Default\", \"Default\", \"Default\", \"Default\", \"Default\", \"Default\", \"Default\", \"Default\", \"Default\", \"Default\", \"Default\", \"Default\", \"Default\", \"Default\", \"Default\", \"Default\", \"Default\", \"Default\", \"Default\", \"Default\", \"Default\", \"Default\", \"Default\", \"Default\", \"Default\", \"Default\", \"Default\", \"Topic1\", \"Topic1\", \"Topic1\", \"Topic1\", \"Topic1\", \"Topic1\", \"Topic1\", \"Topic1\", \"Topic1\", \"Topic1\", \"Topic1\", \"Topic1\", \"Topic1\", \"Topic1\", \"Topic1\", \"Topic1\", \"Topic1\", \"Topic1\", \"Topic1\", \"Topic1\", \"Topic1\", \"Topic1\", \"Topic1\", \"Topic1\", \"Topic1\", \"Topic1\", \"Topic1\", \"Topic1\", \"Topic1\", \"Topic1\", \"Topic1\", \"Topic1\", \"Topic1\", \"Topic1\", \"Topic1\", \"Topic1\", \"Topic1\", \"Topic1\", \"Topic1\", \"Topic1\", \"Topic1\", \"Topic1\", \"Topic1\", \"Topic1\", \"Topic1\", \"Topic1\", \"Topic1\", \"Topic1\", \"Topic1\", \"Topic1\", \"Topic1\", \"Topic2\", \"Topic2\", \"Topic2\", \"Topic2\", \"Topic2\", \"Topic2\", \"Topic2\", \"Topic2\", \"Topic2\", \"Topic2\", \"Topic2\", \"Topic2\", \"Topic2\", \"Topic2\", \"Topic2\", \"Topic2\", \"Topic2\", \"Topic2\", \"Topic2\", \"Topic2\", \"Topic2\", \"Topic2\", \"Topic2\", \"Topic2\", \"Topic2\", \"Topic2\", \"Topic2\", \"Topic2\", \"Topic2\", \"Topic2\", \"Topic2\", \"Topic2\", \"Topic2\", \"Topic2\", \"Topic2\", \"Topic2\", \"Topic2\", \"Topic2\", \"Topic2\", \"Topic2\", \"Topic2\", \"Topic2\", \"Topic2\", \"Topic2\", \"Topic2\", \"Topic2\", \"Topic2\", \"Topic2\", \"Topic2\", \"Topic2\", \"Topic2\", \"Topic2\", \"Topic2\", \"Topic2\", \"Topic2\", \"Topic2\", \"Topic3\", \"Topic3\", \"Topic3\", \"Topic3\", \"Topic3\", \"Topic3\", \"Topic3\", \"Topic3\", \"Topic3\", \"Topic3\", \"Topic3\", \"Topic3\", \"Topic3\", \"Topic3\", \"Topic3\", \"Topic3\", \"Topic3\", \"Topic3\", \"Topic3\", \"Topic3\", \"Topic3\", \"Topic3\", \"Topic3\", \"Topic3\", \"Topic3\", \"Topic3\", \"Topic3\", \"Topic3\", \"Topic3\", \"Topic3\", \"Topic3\", \"Topic3\", \"Topic3\", \"Topic3\", \"Topic3\", \"Topic3\", \"Topic3\", \"Topic3\", \"Topic3\", \"Topic3\", \"Topic3\", \"Topic3\", \"Topic3\", \"Topic3\", \"Topic3\", \"Topic3\", \"Topic3\", \"Topic3\", \"Topic3\", \"Topic3\", \"Topic3\", \"Topic3\", \"Topic3\", \"Topic4\", \"Topic4\", \"Topic4\", \"Topic4\", \"Topic4\", \"Topic4\", \"Topic4\", \"Topic4\", \"Topic4\", \"Topic4\", \"Topic4\", \"Topic4\", \"Topic4\", \"Topic4\", \"Topic4\", \"Topic4\", \"Topic4\", \"Topic4\", \"Topic4\", \"Topic4\", \"Topic4\", \"Topic4\", \"Topic4\", \"Topic4\", \"Topic4\", \"Topic4\", \"Topic4\", \"Topic4\", \"Topic4\", \"Topic4\", \"Topic4\", \"Topic4\", \"Topic4\", \"Topic4\", \"Topic4\", \"Topic4\", \"Topic4\", \"Topic4\", \"Topic4\", \"Topic4\", \"Topic4\", \"Topic4\", \"Topic4\", \"Topic4\", \"Topic4\", \"Topic4\", \"Topic4\", \"Topic4\", \"Topic4\", \"Topic4\", \"Topic4\", \"Topic4\", \"Topic4\", \"Topic4\", \"Topic5\", \"Topic5\", \"Topic5\", \"Topic5\", \"Topic5\", \"Topic5\", \"Topic5\", \"Topic5\", \"Topic5\", \"Topic5\", \"Topic5\", \"Topic5\", \"Topic5\", \"Topic5\", \"Topic5\", \"Topic5\", \"Topic5\", \"Topic5\", \"Topic5\", \"Topic5\", \"Topic5\", \"Topic5\", \"Topic5\", \"Topic5\", \"Topic5\", \"Topic5\", \"Topic5\", \"Topic5\", \"Topic5\", \"Topic5\", \"Topic5\", \"Topic5\", \"Topic5\", \"Topic5\", \"Topic5\", \"Topic5\", \"Topic5\", \"Topic5\", \"Topic5\", \"Topic5\", \"Topic5\", \"Topic5\", \"Topic5\", \"Topic5\", \"Topic5\", \"Topic5\", \"Topic5\", \"Topic6\", \"Topic6\", \"Topic6\", \"Topic6\", \"Topic6\", \"Topic6\", \"Topic6\", \"Topic6\", \"Topic6\", \"Topic6\", \"Topic6\", \"Topic6\", \"Topic6\", \"Topic6\", \"Topic6\", \"Topic6\", \"Topic6\", \"Topic6\", \"Topic6\", \"Topic6\", \"Topic6\", \"Topic6\", \"Topic6\", \"Topic6\", \"Topic6\", \"Topic6\", \"Topic6\", \"Topic6\", \"Topic6\", \"Topic6\", \"Topic6\", \"Topic6\", \"Topic6\", \"Topic6\", \"Topic6\", \"Topic6\", \"Topic6\", \"Topic6\", \"Topic6\", \"Topic6\", \"Topic6\", \"Topic6\", \"Topic6\", \"Topic6\", \"Topic6\", \"Topic6\", \"Topic6\", \"Topic6\", \"Topic6\", \"Topic6\", \"Topic7\", \"Topic7\", \"Topic7\", \"Topic7\", \"Topic7\", \"Topic7\", \"Topic7\", \"Topic7\", \"Topic7\", \"Topic7\", \"Topic7\", \"Topic7\", \"Topic7\", \"Topic7\", \"Topic7\", \"Topic7\", \"Topic7\", \"Topic7\", \"Topic7\", \"Topic7\", \"Topic7\", \"Topic7\", \"Topic7\", \"Topic7\", \"Topic7\", \"Topic7\", \"Topic7\", \"Topic7\", \"Topic7\", \"Topic7\", \"Topic7\", \"Topic7\", \"Topic7\", \"Topic7\", \"Topic7\", \"Topic7\", \"Topic7\", \"Topic7\", \"Topic7\", \"Topic7\", \"Topic7\", \"Topic7\", \"Topic7\", \"Topic7\", \"Topic7\", \"Topic7\", \"Topic7\", \"Topic7\", \"Topic7\", \"Topic7\", \"Topic7\", \"Topic8\", \"Topic8\", \"Topic8\", \"Topic8\", \"Topic8\", \"Topic8\", \"Topic8\", \"Topic8\", \"Topic8\", \"Topic8\", \"Topic8\", \"Topic8\", \"Topic8\", \"Topic8\", \"Topic8\", \"Topic8\", \"Topic8\", \"Topic8\", \"Topic8\", \"Topic8\", \"Topic8\", \"Topic8\", \"Topic8\", \"Topic8\", \"Topic8\", \"Topic8\", \"Topic8\", \"Topic8\", \"Topic8\", \"Topic8\", \"Topic8\", \"Topic8\", \"Topic8\", \"Topic8\", \"Topic8\", \"Topic8\", \"Topic8\", \"Topic8\", \"Topic8\", \"Topic8\", \"Topic8\", \"Topic8\", \"Topic8\", \"Topic8\", \"Topic9\", \"Topic9\", \"Topic9\", \"Topic9\", \"Topic9\", \"Topic9\", \"Topic9\", \"Topic9\", \"Topic9\", \"Topic9\", \"Topic9\", \"Topic9\", \"Topic9\", \"Topic9\", \"Topic9\", \"Topic9\", \"Topic9\", \"Topic9\", \"Topic9\", \"Topic9\", \"Topic9\", \"Topic9\", \"Topic9\", \"Topic9\", \"Topic9\", \"Topic9\", \"Topic9\", \"Topic9\", \"Topic9\", \"Topic9\", \"Topic9\", \"Topic9\", \"Topic9\", \"Topic9\", \"Topic9\", \"Topic9\", \"Topic9\", \"Topic9\", \"Topic9\", \"Topic9\", \"Topic9\", \"Topic9\", \"Topic9\", \"Topic9\", \"Topic9\", \"Topic9\", \"Topic9\", \"Topic9\", \"Topic9\", \"Topic9\", \"Topic9\", \"Topic9\", \"Topic9\", \"Topic9\", \"Topic9\", \"Topic9\", \"Topic9\", \"Topic9\", \"Topic9\", \"Topic10\", \"Topic10\", \"Topic10\", \"Topic10\", \"Topic10\", \"Topic10\", \"Topic10\", \"Topic10\", \"Topic10\", \"Topic10\", \"Topic10\", \"Topic10\", \"Topic10\", \"Topic10\", \"Topic10\", \"Topic10\", \"Topic10\", \"Topic10\", \"Topic10\", \"Topic10\", \"Topic10\", \"Topic10\", \"Topic10\", \"Topic10\", \"Topic10\", \"Topic10\", \"Topic10\", \"Topic10\", \"Topic10\", \"Topic10\", \"Topic10\", \"Topic10\", \"Topic10\", \"Topic10\", \"Topic10\", \"Topic10\", \"Topic10\"], \"Freq\": [119875.0, 58129.0, 76055.0, 141199.0, 45936.0, 125495.0, 38129.0, 89470.0, 39285.0, 77362.0, 46167.0, 48858.0, 46546.0, 40381.0, 45109.0, 18183.0, 26902.0, 22862.0, 21517.0, 64043.0, 15712.0, 19282.0, 27699.0, 31131.0, 21055.0, 18817.0, 18803.0, 17561.0, 76673.0, 24199.0, 46545.557174002446, 31130.64637966292, 20550.565048937056, 19236.1879729847, 10806.793257668485, 9829.767550705617, 7617.855304686547, 7575.317079939424, 6969.813069132289, 6818.458558759501, 6535.850986685726, 6503.374601433475, 5878.720808212614, 5879.413723289566, 5825.259938166431, 5037.663415645656, 5006.365860954443, 4838.405655818131, 4823.57196201895, 4648.495008329118, 4498.388027940851, 4397.163931171566, 4379.442091466792, 4206.444747946526, 3952.228487468075, 3899.4926993579984, 3803.2660739576995, 3729.784039157558, 3481.1243384451345, 3353.7163725048263, 10163.55495277327, 116087.82002044545, 43281.42955211115, 29869.951447496427, 12432.220382677862, 14026.031060997479, 16310.518065264225, 10927.043137260593, 9413.641715097028, 7614.368522210739, 11837.660771139457, 6253.591157699426, 10459.828290556949, 9447.913538971843, 8582.947695414283, 9171.994325803562, 11404.870871633815, 9348.199773668635, 9330.47059172955, 7095.4668370580475, 7115.754876604736, 25030.659955875868, 18851.025150140402, 18586.619040897167, 11786.769081942528, 10200.51275328518, 7802.302493606892, 7063.098551160788, 5596.136041900726, 5460.765454302272, 5417.42251463332, 5378.206729151356, 5349.120073404384, 5333.764421537598, 5197.16885618097, 5135.872055382634, 5109.774948895796, 4926.032003926603, 4544.090980874456, 4448.704656544508, 4278.539302853704, 4259.001322028813, 4083.6252541208937, 4054.4381515675886, 3887.368202962191, 3853.7674411981857, 3665.257641334441, 3611.26532428245, 3477.798079706723, 3474.997221229894, 3425.3194940596577, 5069.115783500549, 21419.313758805518, 55241.33357442652, 6083.235191220107, 8873.683976184462, 24492.94049198442, 22637.20884375739, 24310.917802314918, 47501.8406390829, 18930.373769780646, 19146.247938647677, 13951.820944370242, 7919.693505098662, 16334.609270967929, 6337.471480218496, 13353.047094499281, 9351.431362879744, 7849.198071233113, 8742.903574555306, 8065.431547626428, 7410.025446974631, 10091.327200378557, 7747.4132345684775, 8488.329772728275, 8105.127119909218, 6774.787789217994, 45935.17370006707, 26901.476291152678, 15958.863701087466, 14862.049187135386, 14753.48123795579, 10363.893158499432, 8308.419171538244, 7410.193218512693, 5636.366551200222, 5128.153579500717, 5039.727143212596, 4675.542718601725, 4646.5825396032205, 4617.292981022529, 4284.6062594401055, 4028.258673699757, 3891.3618905068124, 3535.6711641711, 3364.8176744811017, 3018.3730296611297, 2810.7465311633546, 2776.5714957460623, 2685.9259573148847, 2608.135923049933, 2584.602525729733, 2488.962704097249, 2456.2962884896847, 2370.0708270372943, 2366.059116098929, 2354.0208693132213, 5182.409234244033, 9561.242328174365, 6480.161953985964, 15953.664537904293, 6800.036590148643, 59432.6678647863, 18460.59364307425, 15559.547400328209, 3936.8831447154657, 19439.731782220668, 15217.005370917763, 23354.95790336738, 17119.425899988408, 9214.125381900663, 9553.169364422707, 11348.532561167714, 10760.165580493014, 10992.662042719556, 5776.396507812475, 5529.277427751923, 6385.730894411234, 5661.820726897368, 5279.761192629283, 10698.559227801787, 7794.978258698799, 6571.545469181959, 6464.63550462945, 6247.2366413563195, 5601.137701626978, 5494.850266019715, 5492.819141352167, 5492.432482670759, 5306.749605679459, 5041.937514168007, 4818.808059382193, 4647.605018864176, 4091.626473420981, 3908.853359275183, 3875.686181260098, 3777.9631108644585, 3621.352942999982, 3469.972863654038, 2835.6771926975766, 2754.4589947711065, 2680.3690930288503, 2473.934904095814, 2443.876523798261, 2240.7198274743523, 2139.826450778822, 2028.536832950218, 1986.5663734831855, 1982.013355984506, 1980.4033456780332, 10065.48960673822, 13222.371146914005, 20355.296785018087, 7351.642857476138, 5928.935740659853, 4919.108904399968, 5693.707875201721, 12479.256353483637, 3625.936738966429, 10262.854954672963, 4076.921205005296, 11646.683104398597, 11940.454879718678, 14666.456709592472, 4963.2176298617715, 9070.086368234213, 8683.65725301215, 5613.927820519831, 7377.826157704773, 10292.205017729046, 7803.6495678693955, 6358.981907200808, 6091.0634658966965, 5307.620749738848, 12861.299650514105, 9119.709685245229, 9087.754804842345, 7174.587080757642, 6818.069462261808, 6501.551217747086, 6204.749894560521, 6038.8750081655235, 5453.575557232395, 5399.492865757897, 5236.451207223235, 4570.128094958189, 4435.4324356727, 4146.464396722191, 4127.598452739229, 3970.860883853262, 3886.5597396621583, 3739.556687434312, 3621.3623884607073, 3389.515438040687, 3069.510395382657, 2801.0613135282947, 2765.7975842015403, 2763.607428330639, 2568.0838585380234, 2410.46746457495, 2377.1274066754645, 2279.4361200076305, 2240.8451116881606, 2233.1945405238826, 57188.77553731148, 2521.559412437288, 15008.279303239216, 5623.389906671759, 7242.212923356169, 6952.838056204065, 5550.916121576715, 9610.400407516125, 3909.362446457767, 6912.724714877245, 6607.107223707716, 5457.879463412699, 4932.426197063137, 7728.737529406036, 9132.02384904459, 4480.106393883522, 4078.013753046188, 21053.876096091626, 12756.740917354184, 11070.679690177107, 10471.089587586453, 10278.416520871438, 9773.45090865098, 9596.738786381735, 7802.865861951641, 39278.832084602094, 7602.353415079221, 6563.356057992211, 4986.043700082267, 4682.028308719262, 4543.945706312786, 4494.015194327657, 4257.83845987505, 4222.955400033665, 4135.468701803797, 3966.1769517555394, 3618.5472854467835, 3402.7694091905273, 3214.3211624502487, 2959.729841517798, 2719.3897605727248, 2529.8755490300637, 2283.3282285289915, 2264.118815240775, 2244.1631414498333, 2074.5300505076098, 2015.5198575501558, 20085.522633112734, 37809.550202660415, 15636.165098625079, 9529.135646163675, 42944.367186582254, 10484.153695680641, 12015.794217562834, 14580.983885445798, 15609.869274877738, 17976.100069310323, 14642.897129021081, 34968.04525386295, 9301.804007909379, 9403.296608523222, 12071.121933049166, 11926.460789113149, 14277.905604149671, 9665.246690402815, 7846.327952053708, 7386.804390298885, 22861.067439250604, 21516.68366252036, 14560.920993847389, 18802.140541411474, 12527.191279321945, 10525.781927192627, 7676.607694811826, 7345.710146054556, 6174.07794738587, 6088.873923601935, 5120.7625771428275, 4673.170677440984, 4207.92311374827, 3926.2246015590476, 3687.282810196074, 3675.767034467577, 3470.54264539132, 3265.917604705003, 3124.7028137550947, 3010.8947136946913, 2875.4545975889737, 2532.7493759045346, 2506.592854492043, 2462.5498820190496, 2461.3473606689245, 2227.4733878316524, 2214.6826678339908, 2212.988421238479, 1803.508894282405, 1795.3029441681888, 4234.385585450155, 19600.740218899646, 11068.823895999894, 11724.833022710742, 9784.344305526633, 36654.619107800965, 23899.141282082226, 20662.898196761183, 5749.08435975313, 17237.835971545435, 10778.533600209626, 7697.559425424853, 4838.772222757452, 5786.928675372671, 7403.049916446758, 4967.0358534131055, 7206.820011415715, 5544.588650957073, 8224.884501772694, 5323.946255479376, 4995.144012430285, 18816.576141954643, 12598.655354302053, 11103.497873953986, 8029.812212666155, 7627.280451005766, 6159.352797743002, 5830.7963585683565, 5701.988249322032, 4251.424059727541, 4079.754497578092, 3916.7058585242485, 3871.9231602749687, 3815.662939832201, 3775.3830966536248, 3583.686828464403, 3581.4888084591, 3488.9323456474835, 3082.5087363845178, 3068.0698941587166, 2944.3598691735187, 2789.401946626798, 2595.7973454137455, 2576.184302198694, 2574.768260455609, 2505.65270134296, 2499.0168188469465, 2392.0693332513974, 2378.2130936317503, 2364.2196690559813, 2262.900396181161, 2449.0599813796575, 14129.90065052524, 14681.982253553417, 4194.630853654094, 6794.4407076745765, 4884.681423100639, 4173.931481490549, 10720.670056955812, 6814.878143071181, 4299.728420729653, 3599.912835279027, 3583.2862259247554, 3786.261901444845, 3320.0995164609762, 58128.420613797985, 19281.702484724963, 17559.762994540135, 16049.703329514516, 14253.947615266, 8275.487800358404, 3483.5728820675463, 3141.05021738589, 2868.6136073700713, 2368.846365692898, 2330.441643063044, 2257.9551370550807, 2248.526980297759, 2138.219505960176, 2097.4411821170443, 2077.3746454072457, 1951.9755927790568, 1939.5881874133338, 1701.7898051124998, 1615.647349306469, 1554.2417151447723, 1549.0818515643493, 1530.0947044886877, 1433.6578293272262, 1426.287673876458, 1320.2287458337137, 1138.0255689463715, 1071.0363604583968, 1054.2432888560459, 1053.1290391859907, 9095.137692307237, 9615.225205844687, 10720.821956593296, 6509.440870157864, 6822.794668149358, 25643.192460241604, 13187.080897080885, 11478.210169580147, 9928.425110846985, 7851.542668568455, 2940.65330234639, 7186.877713411918, 4659.4989653388475, 3341.702708183085, 13928.057166290137, 4047.7248958295654, 13171.420562608275, 11203.485369519727, 3267.857447924298, 6004.948916690166, 7785.337474099552, 6816.210926679992, 11293.585230583332, 5737.326280610862, 10093.593133664206, 5372.85799894334, 5367.331092657063, 4800.319371157341, 4678.339225093434, 18182.606700726137, 15711.65190875367, 11804.066688214281, 10997.644568881062, 10002.819099767401, 9470.089410412282, 7574.091093934969, 6395.5422317421335, 5169.452632342444, 3508.765067250955, 3457.9486069593117, 3386.5967670532664, 3208.8276555328607, 2665.1903272572476, 2281.6961662764306, 2230.1846429266516, 2157.0736937314578, 2053.548598523032, 1990.0348957089536, 1675.4361227646818, 1642.5685865917617, 1545.1751514317707, 1530.2091458966868, 1526.618934808284, 1475.0840514949061, 1387.9852579173892, 1127.734529100591, 1123.3388791894463, 1042.4360126873894, 1019.83323618688, 24200.506775257458, 3774.015664766771, 12681.54605154215, 3408.3673976313794, 4468.775177601089, 3132.021376181225, 2071.9905984316288], \"Term\": [\"protest\", \"rebel\", \"police\", \"kill\", \"militant\", \"force\", \"unknown\", \"report\", \"injury\", \"attack\", \"military\", \"fatality\", \"government\", \"near\", \"stage\", \"weapon\", \"province\", \"pro\", \"reportedly\", \"district\", \"explosion\", \"coalition\", \"casualty\", \"demand\", \"regime\", \"party\", \"border\", \"troop\", \"area\", \"shell\", \"government\", \"demand\", \"hold\", \"outside\", \"press\", \"club\", \"sindh\", \"students\", \"karachi\", \"sit\", \"employee\", \"authority\", \"teacher\", \"non\", \"pakistan\", \"hyderabad\", \"high\", \"college\", \"association\", \"farmer\", \"committee\", \"salary\", \"hundreds\", \"human\", \"oil\", \"staff\", \"increase\", \"department\", \"right\", \"organize\", \"school\", \"protest\", \"stage\", \"demonstration\", \"university\", \"worker\", \"student\", \"rally\", \"office\", \"union\", \"local\", \"dhaka\", \"day\", \"march\", \"strike\", \"activist\", \"people\", \"member\", \"city\", \"resident\", \"national\", \"nan\", \"little\", \"shoot\", \"dead\", \"shabaab\", \"upazila\", \"riot\", \"insurgent\", \"beat\", \"think\", \"ethiopian\", \"attempt\", \"die\", \"attacker\", \"occur\", \"night\", \"bnp\", \"somali\", \"spla\", \"villager\", \"guard\", \"escape\", \"mogadishu\", \"kidnap\", \"fardc\", \"myanmar\", \"flee\", \"boko\", \"ugandan\", \"haram\", \"dispute\", \"man\", \"attack\", \"relate\", \"incident\", \"injure\", \"people\", \"clash\", \"kill\", \"group\", \"village\", \"arm\", \"death\", \"soldier\", \"leave\", \"civilian\", \"unidentified\", \"fight\", \"town\", \"army\", \"wound\", \"force\", \"state\", \"area\", \"police\", \"member\", \"militant\", \"province\", \"islamic\", \"gunman\", \"operation\", \"mayi\", \"taliban\", \"blast\", \"iraqi\", \"suspected\", \"drug\", \"seize\", \"afghan\", \"ttp\", \"ali\", \"responsibility\", \"casualties\", \"vigilante\", \"mosul\", \"global\", \"bomber\", \"sinai\", \"civilians\", \"aid\", \"tactical\", \"baidoa\", \"hideout\", \"nato\", \"shah\", \"special\", \"narathiwat\", \"ambush\", \"assume\", \"suspect\", \"conduct\", \"kill\", \"state\", \"security\", \"suicide\", \"district\", \"military\", \"force\", \"attack\", \"wound\", \"soldier\", \"area\", \"police\", \"report\", \"raid\", \"destroy\", \"injure\", \"city\", \"clash\", \"hit\", \"lra\", \"abduct\", \"damage\", \"car\", \"explode\", \"amisom\", \"device\", \"market\", \"property\", \"plant\", \"tuesday\", \"driver\", \"zanu\", \"commune\", \"looting\", \"gunfire\", \"truck\", \"detonate\", \"traffic\", \"burundi\", \"mosque\", \"fdlr\", \"destruction\", \"zone\", \"passenger\", \"scene\", \"river\", \"outage\", \"gunmen\", \"july\", \"house\", \"bomb\", \"open\", \"explosive\", \"ied\", \"cause\", \"road\", \"agency\", \"vehicle\", \"neighbourhood\", \"civilian\", \"injure\", \"area\", \"january\", \"near\", \"people\", \"resident\", \"city\", \"kill\", \"district\", \"group\", \"village\", \"unidentified\", \"protester\", \"june\", \"activity\", \"disperse\", \"street\", \"gas\", \"demonstrator\", \"throw\", \"violent\", \"believe\", \"stone\", \"thursday\", \"tear\", \"chief\", \"rioter\", \"torture\", \"shop\", \"centre\", \"bullet\", \"detain\", \"chittagong\", \"indian\", \"rural\", \"christian\", \"crowd\", \"date\", \"updf\", \"bring\", \"tire\", \"link\", \"police\", \"egyptian\", \"arrest\", \"assault\", \"block\", \"station\", \"youth\", \"security\", \"try\", \"use\", \"road\", \"burn\", \"officer\", \"clash\", \"force\", \"anti\", \"violence\", \"regime\", \"clan\", \"exchange\", \"syrian\", \"northern\", \"warplanes\", \"eastern\", \"countryside\", \"injury\", \"sudan\", \"islamist\", \"khan\", \"benghazi\", \"hama\", \"outskirts\", \"russian\", \"loyal\", \"helicopter\", \"sheikh\", \"aleppo\", \"vicinity\", \"deir\", \"idleb\", \"ukraine\", \"dar\", \"surrender\", \"tahrir\", \"coast\", \"cape\", \"bombard\", \"shell\", \"fatality\", \"carry\", \"southern\", \"report\", \"clashes\", \"control\", \"place\", \"militia\", \"town\", \"fighter\", \"force\", \"use\", \"target\", \"village\", \"civilian\", \"area\", \"clash\", \"army\", \"casualty\", \"pro\", \"reportedly\", \"houthi\", \"border\", \"governorate\", \"saudi\", \"western\", \"hadi\", \"ally\", \"establish\", \"saleh\", \"offensive\", \"port\", \"farm\", \"popular\", \"brigade\", \"yemen\", \"according\", \"affiliate\", \"element\", \"yesterday\", \"mountain\", \"drone\", \"taizz\", \"resistance\", \"sanaa\", \"hail\", \"northwestern\", \"shabab\", \"recapture\", \"information\", \"casualty\", \"air\", \"raid\", \"lead\", \"force\", \"report\", \"area\", \"launch\", \"district\", \"fighter\", \"control\", \"september\", \"anti\", \"militia\", \"east\", \"city\", \"numb\", \"kill\", \"claim\", \"clashes\", \"party\", \"supporter\", \"region\", \"election\", \"muslim\", \"league\", \"know\", \"sunday\", \"pattani\", \"general\", \"congress\", \"record\", \"mdc\", \"candidate\", \"bcl\", \"hartal\", \"unita\", \"chhatra\", \"rajshahi\", \"bangladesh\", \"democracy\", \"residence\", \"poll\", \"chairman\", \"assembly\", \"pkk\", \"cadre\", \"church\", \"religious\", \"train\", \"presidential\", \"leader\", \"activist\", \"november\", \"national\", \"opposition\", \"president\", \"district\", \"member\", \"city\", \"rally\", \"lead\", \"protest\", \"office\", \"rebel\", \"coalition\", \"troop\", \"position\", \"grenade\", \"mortar\", \"machine\", \"yemeni\", \"unspecified\", \"zor\", \"republic\", \"mfdc\", \"aircraft\", \"plane\", \"tank\", \"launcher\", \"type\", \"naf\", \"sham\", \"nigeria\", \"karamojong\", \"bombardment\", \"anbar\", \"peacekeeper\", \"nihm\", \"jebel\", \"jawf\", \"bani\", \"southwest\", \"bakara\", \"gun\", \"heavy\", \"forces\", \"unit\", \"location\", \"military\", \"fight\", \"airstrike\", \"destroy\", \"camp\", \"loss\", \"battle\", \"belong\", \"airport\", \"unknown\", \"fatalities\", \"near\", \"army\", \"split\", \"vehicle\", \"soldier\", \"militia\", \"force\", \"target\", \"kill\", \"day\", \"fatality\", \"arm\", \"wound\", \"weapon\", \"explosion\", \"total\", \"involve\", \"saturday\", \"tfg\", \"observe\", \"israeli\", \"palestinian\", \"shot\", \"smm\", \"osce\", \"algerian\", \"www\", \"direction\", \"gaza\", \"faa\", \"relief\", \"ain\", \"http\", \"tizi\", \"rafah\", \"gspc\", \"ouzou\", \"retrieved\", \"burst\", \"boumerdes\", \"projectile\", \"cannon\", \"frontline\", \"unknown\", \"small\", \"near\", \"friday\", \"march\", \"arm\", \"heavy\"], \"Total\": [119875.0, 58129.0, 76055.0, 141199.0, 45936.0, 125495.0, 38129.0, 89470.0, 39285.0, 77362.0, 46167.0, 48858.0, 46546.0, 40381.0, 45109.0, 18183.0, 26902.0, 22862.0, 21517.0, 64043.0, 15712.0, 19282.0, 27699.0, 31131.0, 21055.0, 18817.0, 18803.0, 17561.0, 76673.0, 24199.0, 46546.86164896449, 31131.95030635009, 20551.88369953014, 19237.49198658729, 10808.097187360956, 9831.07145693432, 7619.159194933598, 7576.621006481341, 6971.117066173443, 6819.762494733587, 6537.154899431155, 6504.678644085077, 5880.024757044327, 5880.71790828576, 5826.563929259604, 5038.967309590128, 5007.669989894028, 4839.709625628216, 4824.875866116518, 4649.799080579258, 4499.69228402135, 4398.467813333801, 4380.7461281821825, 4207.748864679831, 3953.5328446122567, 3900.7967117071576, 3804.5701260619694, 3731.0879811161894, 3482.428349560799, 3355.0203621631285, 10196.094272561984, 119875.26732255792, 45109.61178878372, 31086.45142023428, 13255.752100470983, 16432.691664113623, 19595.979126012677, 14868.305565023682, 12735.730075496267, 9496.110209657088, 20737.08034840475, 8022.5683905483, 26443.528496460323, 21984.02755079627, 18217.84481981224, 23857.14722226506, 45115.9225511364, 26923.45284081418, 36931.89540430317, 12710.597756220852, 13911.381206186503, 25031.99493522034, 18852.360383103984, 18587.95416104947, 11788.104215929618, 10201.84781695966, 7803.637632487608, 7064.433909447907, 5597.471265293805, 5462.100609239164, 5418.757795248891, 5379.542040046453, 5350.455315555981, 5335.099615305951, 5198.503958493645, 5137.207353350085, 5111.110163268247, 4927.367340621057, 4545.426128861403, 4450.039980857962, 4279.874453090292, 4260.336551410497, 4084.9603375384168, 4055.77355184513, 3888.7033893681137, 3855.1025852693992, 3666.592663803528, 3612.600527718865, 3479.133111829941, 3476.332921098166, 3426.6545286367855, 5165.540715848657, 23752.64363294098, 77362.05969585272, 6631.967769823964, 11018.325927798252, 48760.07238276962, 45115.9225511364, 53041.49415132511, 141199.79976932277, 37921.23100412123, 39272.51694107067, 25921.0699016956, 10860.064356754685, 36528.945306991656, 7979.111750860384, 38477.78907013865, 19829.500855038088, 21037.44935385131, 36637.16957982223, 31332.026960222323, 24528.09521895619, 125495.10166860966, 33987.00229825608, 76673.99243136913, 76055.15024009712, 26923.45284081418, 45936.43641030515, 26902.73908660456, 15960.126460325004, 14863.312043868806, 14754.7440189906, 10365.15593240039, 8309.681813299607, 7411.456100027988, 5637.629230675153, 5129.416433129419, 5040.989816903416, 4676.805637190587, 4647.845181508505, 4618.555686947098, 4285.8692121452505, 4029.5215113995782, 3892.6249050648103, 3536.9338696059804, 3366.0803477611507, 3019.6357800600645, 2812.0092233310406, 2777.834245497367, 2687.1888798505324, 2609.39898946181, 2585.865248487653, 2490.225673582169, 2457.5589890694177, 2371.3336498354183, 2367.3220532505447, 2355.2836766440937, 5198.544494235765, 10117.695671415304, 7034.181033797522, 20616.09448810627, 8636.470945638275, 141199.79976932277, 33987.00229825608, 27904.43158431789, 4545.131492905274, 64043.0513815172, 46167.375822415495, 125495.10166860966, 77362.05969585272, 24528.09521895619, 36528.945306991656, 76673.99243136913, 76055.15024009712, 89470.04569636311, 20076.14485218059, 15458.800288836159, 48760.07238276962, 36931.89540430317, 53041.49415132511, 10699.871863418544, 7796.291070856693, 6572.85813881539, 6465.94808956662, 6248.549252760991, 5602.45023964497, 5496.163016521059, 5494.131719470887, 5493.745133402304, 5308.06220562118, 5043.25003387359, 4820.12081491615, 4648.917577883628, 4092.9391737195733, 3910.1662676090823, 3876.9987309968747, 3779.2758037471194, 3622.665559766969, 3471.2854055863645, 2836.9898023327673, 2755.7721846754166, 2681.6818001919746, 2475.2476858130867, 2445.189095288944, 2242.0325231587794, 2141.1390411056723, 2029.849495139315, 1987.8790994115514, 1983.3259467322152, 1981.7160103367873, 10100.258861338541, 13994.800472693933, 22531.784450266314, 8721.326714765964, 6831.243398057553, 5618.003080995326, 6793.648067742564, 19518.22021012922, 4127.94576383742, 19493.112959444534, 5246.691897548607, 38477.78907013865, 48760.07238276962, 76673.99243136913, 8092.88456794926, 40381.83197099964, 45115.9225511364, 12710.597756220852, 36931.89540430317, 141199.79976932277, 64043.0513815172, 37921.23100412123, 39272.51694107067, 19829.500855038088, 12862.610770033814, 9121.02098287544, 9089.06639504731, 7175.898171757129, 6819.380622525561, 6502.86235200007, 6206.061026506471, 6040.186223617541, 5454.886773351711, 5400.804235037943, 5237.762307329764, 4571.439408054952, 4436.74351992005, 4147.775625865764, 4128.909565645626, 3972.1720655552276, 3887.8709635484684, 3740.8679703843904, 3622.6735762319627, 3390.8265615689475, 3070.821679046909, 2802.3724706639946, 2767.1088814311015, 2764.918679296128, 2569.3949927317344, 2411.7787820217522, 2378.439042666794, 2280.747346722864, 2242.1562588638135, 2234.505915949008, 76055.15024009712, 2579.7396048511155, 23928.470044499456, 7597.536165795468, 10980.501271950898, 10507.662056875684, 9316.52492321531, 27904.43158431789, 5369.554092126169, 19596.966215516346, 19518.22021012922, 12575.942946325116, 10719.130851987231, 53041.49415132511, 125495.10166860966, 13323.376900253048, 10757.40600885606, 21055.093706631873, 12757.958706511541, 11071.897531429275, 10472.307184799589, 10279.634280679982, 9774.668525348177, 9597.956521952654, 7804.0834543158, 39285.10286453815, 7603.571342423261, 6564.573881975797, 4987.2615554759805, 4683.246068779407, 4545.163296326078, 4495.232912504525, 4259.056062437356, 4224.1731657594755, 4136.686487375896, 3967.3947844038707, 3619.7648794111733, 3403.9871057189066, 3215.53876650956, 2960.947432197075, 2720.607514805111, 2531.093167991298, 2284.5460931129323, 2265.3365189197125, 2245.3810375939615, 2075.747887450497, 2016.7375443328463, 24199.31871700934, 48858.36729778312, 20587.029633701928, 11757.605345254444, 89470.04569636311, 15480.337410835302, 19797.57774874373, 25972.34500214422, 29830.004822831837, 36637.16957982223, 29053.707253519446, 125495.10166860966, 19596.966215516346, 22555.853378631782, 39272.51694107067, 38477.78907013865, 76673.99243136913, 53041.49415132511, 31332.026960222323, 27699.91007765797, 22862.302844642396, 21517.919136171313, 14562.156338012448, 18803.75687057255, 12528.426656709393, 10527.01727946989, 7677.843200705879, 7346.945492119891, 6175.313434578238, 6090.109527257003, 5121.997940077893, 4674.406272805403, 4209.158679630623, 3927.4600863856917, 3688.518250397506, 3677.0025215013475, 3471.7779914742187, 3267.1531591703388, 3125.938345042547, 3012.130282864236, 2876.6903722294946, 2533.9848885833476, 2507.8283420876105, 2463.785227820035, 2462.5827909346503, 2228.7087396631046, 2215.9183504838797, 2214.2238486185415, 1804.7444338270193, 1796.538468980067, 4612.406555820083, 27699.91007765797, 15512.648729566468, 20076.14485218059, 17918.69139631173, 125495.10166860966, 89470.04569636311, 76673.99243136913, 9652.613669540839, 64043.0513815172, 29053.707253519446, 19797.57774874373, 8110.433354409942, 13323.376900253048, 29830.004822831837, 9491.02594154392, 36931.89540430317, 16250.729140624679, 141199.79976932277, 15568.353811051564, 15480.337410835302, 18817.871091890094, 12599.950308705662, 11104.793137876084, 8031.107154303142, 7628.575495101299, 6160.647735945271, 5832.091508613345, 5703.2833787154095, 4252.7192182221515, 4081.0495365047414, 3918.000751924953, 3873.218342088335, 3816.9578894241968, 3776.67800276195, 3584.9817497229305, 3582.783727325112, 3490.22784433937, 3083.803636620238, 3069.364844369056, 2945.654799631597, 2790.6969882692015, 2597.092388848697, 2577.479217908375, 2576.063239684729, 2506.9477058212174, 2500.3117176816854, 2393.3642485956084, 2379.5081589040165, 2365.5146603808907, 2264.195492840153, 2453.9338596700186, 17526.54169665488, 23857.14722226506, 5909.882874896897, 13911.381206186503, 8363.837105843942, 7507.15646460142, 64043.0513815172, 26923.45284081418, 36931.89540430317, 14868.305565023682, 17918.69139631173, 119875.26732255792, 12735.730075496267, 58129.66913755522, 19282.950948151167, 17561.01154964321, 16050.951794753582, 14255.196150232285, 8276.736261699123, 3484.821299237325, 3142.2987189044343, 2869.8620600230824, 2370.0948134346245, 2331.6902614483633, 2259.203619224432, 2249.7754548545663, 2139.468058959537, 2098.6896602232537, 2078.6230422573562, 1953.2241961776745, 1940.8365699880565, 1703.038283357042, 1616.8960312043432, 1555.4903599247477, 1550.33038791262, 1531.3431645611038, 1434.906371163779, 1427.5361358514067, 1321.4772948700927, 1139.274042442912, 1072.2848368334498, 1055.4918560308786, 1054.3778834642424, 9774.74012559426, 11688.250254394923, 13540.307366798226, 7908.235492981183, 9355.700359498203, 46167.375822415495, 21037.44935385131, 18093.74948267297, 15458.800288836159, 12273.817599240983, 3524.704437726401, 11912.665312669242, 6680.250337082524, 4251.232923841384, 38129.59839118745, 5755.294836966547, 40381.83197099964, 31332.026960222323, 4277.0305348695665, 19493.112959444534, 36528.945306991656, 29830.004822831837, 125495.10166860966, 22555.853378631782, 141199.79976932277, 26443.528496460323, 48858.36729778312, 25921.0699016956, 24528.09521895619, 18183.806135916933, 15712.851309588761, 11805.266111339552, 10998.843977817312, 10004.018578268164, 9471.288966253445, 7575.290471006982, 6396.741597127064, 5170.651991361273, 3509.9644726003676, 3459.1479474732914, 3387.796107339696, 3210.027122751022, 2666.3897212892775, 2282.895563814743, 2231.384005138107, 2158.2731570425517, 2054.7480613757853, 1991.2343295155652, 1676.6355213568686, 1643.767980928491, 1546.3745624151882, 1531.408688244132, 1527.81832727508, 1476.2834524621962, 1389.18461599155, 1128.9339727011013, 1124.5382300898552, 1043.6354496755089, 1021.0325940305457, 38129.59839118745, 6711.08616305389, 40381.83197099964, 8538.167332905494, 21984.02755079627, 25921.0699016956, 11688.250254394923], \"loglift\": [30.0, 29.0, 28.0, 27.0, 26.0, 25.0, 24.0, 23.0, 22.0, 21.0, 20.0, 19.0, 18.0, 17.0, 16.0, 15.0, 14.0, 13.0, 12.0, 11.0, 10.0, 9.0, 8.0, 7.0, 6.0, 5.0, 4.0, 3.0, 2.0, 1.0, 1.6339, 1.6339, 1.6339, 1.6339, 1.6338, 1.6338, 1.6338, 1.6338, 1.6337, 1.6337, 1.6337, 1.6337, 1.6337, 1.6337, 1.6337, 1.6337, 1.6337, 1.6337, 1.6337, 1.6336, 1.6336, 1.6336, 1.6336, 1.6336, 1.6336, 1.6336, 1.6336, 1.6336, 1.6336, 1.6335, 1.6307, 1.6018, 1.5926, 1.594, 1.5698, 1.4756, 1.4504, 1.3259, 1.3317, 1.4131, 1.0733, 1.3848, 0.7065, 0.7894, 0.8813, 0.678, 0.2587, 0.5761, 0.2581, 1.051, 0.9635, 1.8429, 1.8429, 1.8429, 1.8429, 1.8428, 1.8428, 1.8428, 1.8427, 1.8427, 1.8427, 1.8427, 1.8427, 1.8427, 1.8427, 1.8427, 1.8427, 1.8427, 1.8427, 1.8427, 1.8427, 1.8427, 1.8426, 1.8426, 1.8426, 1.8426, 1.8426, 1.8426, 1.8426, 1.8426, 1.8426, 1.8241, 1.7396, 1.5062, 1.7566, 1.6265, 1.1544, 1.1533, 1.0628, 0.7536, 1.1482, 1.1246, 1.2235, 1.5272, 1.0382, 1.6126, 0.7846, 1.0913, 0.8571, 0.4102, 0.4859, 0.646, -0.6776, 0.3644, -0.3579, -0.396, 0.4632, 2.2826, 2.2826, 2.2825, 2.2825, 2.2825, 2.2825, 2.2825, 2.2824, 2.2824, 2.2824, 2.2824, 2.2823, 2.2823, 2.2823, 2.2823, 2.2823, 2.2823, 2.2822, 2.2822, 2.2822, 2.2822, 2.2821, 2.2821, 2.2821, 2.2821, 2.2821, 2.2821, 2.2821, 2.2821, 2.2821, 2.2795, 2.226, 2.2006, 2.0262, 2.0435, 1.4173, 1.6723, 1.6985, 2.1389, 1.0904, 1.1727, 0.6011, 0.7743, 1.3035, 0.9414, 0.3721, 0.327, 0.1859, 1.0369, 1.2545, 0.2498, 0.4073, -0.0246, 2.301, 2.3009, 2.3009, 2.3009, 2.3009, 2.3009, 2.3009, 2.3009, 2.3009, 2.3008, 2.3008, 2.3008, 2.3008, 2.3008, 2.3008, 2.3008, 2.3007, 2.3007, 2.3007, 2.3006, 2.3006, 2.3006, 2.3006, 2.3006, 2.3005, 2.3005, 2.3004, 2.3004, 2.3004, 2.3004, 2.2976, 2.2443, 2.1995, 2.1302, 2.1594, 2.1682, 2.1245, 1.8538, 2.1714, 1.6596, 2.0488, 1.106, 0.8941, 0.6471, 1.8122, 0.8077, 0.6533, 1.4839, 0.6905, -0.3177, 0.1961, 0.5154, 0.4374, 0.9831, 2.3481, 2.3481, 2.3481, 2.348, 2.348, 2.348, 2.348, 2.348, 2.348, 2.348, 2.348, 2.3479, 2.3479, 2.3479, 2.3479, 2.3479, 2.3479, 2.3479, 2.3478, 2.3478, 2.3478, 2.3477, 2.3477, 2.3477, 2.3477, 2.3477, 2.3477, 2.3476, 2.3476, 2.3476, 2.0631, 2.3254, 1.8817, 2.0473, 1.932, 1.9353, 1.8304, 1.2823, 2.0308, 1.3062, 1.265, 1.5135, 1.572, 0.4221, -0.2723, 1.2583, 1.3782, 2.3685, 2.3685, 2.3685, 2.3685, 2.3685, 2.3684, 2.3684, 2.3684, 2.3684, 2.3684, 2.3684, 2.3683, 2.3683, 2.3683, 2.3683, 2.3683, 2.3683, 2.3683, 2.3683, 2.3682, 2.3682, 2.3682, 2.3682, 2.3681, 2.3681, 2.368, 2.368, 2.368, 2.368, 2.368, 2.1822, 2.1122, 2.0935, 2.1584, 1.6346, 1.9789, 1.8692, 1.7913, 1.721, 1.6566, 1.6834, 1.0907, 1.6234, 1.4936, 1.1889, 1.1972, 0.6877, 0.666, 0.984, 1.0468, 2.5423, 2.5423, 2.5423, 2.5423, 2.5423, 2.5422, 2.5422, 2.5422, 2.5422, 2.5422, 2.5421, 2.5421, 2.5421, 2.5421, 2.542, 2.542, 2.542, 2.542, 2.542, 2.542, 2.5419, 2.5419, 2.5419, 2.5419, 2.5419, 2.5418, 2.5418, 2.5418, 2.5417, 2.5417, 2.4569, 2.1965, 2.2048, 2.0045, 1.9373, 1.3116, 1.2223, 1.2311, 2.0242, 1.2299, 1.5508, 1.5977, 2.0259, 1.7084, 1.1487, 1.8948, 0.9083, 1.4671, -0.3006, 1.4693, 1.4113, 2.5736, 2.5736, 2.5736, 2.5735, 2.5735, 2.5735, 2.5735, 2.5735, 2.5734, 2.5734, 2.5734, 2.5734, 2.5733, 2.5733, 2.5733, 2.5733, 2.5733, 2.5733, 2.5733, 2.5732, 2.5732, 2.5732, 2.5732, 2.5732, 2.5732, 2.5732, 2.5731, 2.5731, 2.5731, 2.5731, 2.5717, 2.3583, 2.0882, 2.2309, 1.8571, 2.0359, 1.9867, 0.7863, 1.1998, 0.4232, 1.1554, 0.9641, -0.8814, 1.2293, 2.7147, 2.7146, 2.7146, 2.7146, 2.7146, 2.7145, 2.7143, 2.7143, 2.7143, 2.7142, 2.7141, 2.7141, 2.7141, 2.7141, 2.7141, 2.7141, 2.714, 2.714, 2.714, 2.7139, 2.7139, 2.7139, 2.7139, 2.7138, 2.7138, 2.7137, 2.7136, 2.7135, 2.7135, 2.7135, 2.6426, 2.5194, 2.4812, 2.52, 2.399, 2.1267, 2.2476, 2.2596, 2.2719, 2.2679, 2.5335, 2.2093, 2.3544, 2.474, 1.7076, 2.3627, 1.5944, 1.6863, 2.4456, 1.5372, 1.1688, 1.2385, 0.3067, 1.3457, 0.0764, 1.121, 0.5061, 1.0283, 1.0578, 3.381, 3.381, 3.381, 3.381, 3.381, 3.3809, 3.3809, 3.3809, 3.3808, 3.3807, 3.3807, 3.3807, 3.3807, 3.3806, 3.3806, 3.3805, 3.3805, 3.3805, 3.3805, 3.3804, 3.3803, 3.3803, 3.3803, 3.3803, 3.3803, 3.3802, 3.38, 3.38, 3.3799, 3.3799, 2.9265, 2.8055, 2.2228, 2.4628, 1.7879, 1.2677, 1.651], \"logprob\": [30.0, 29.0, 28.0, 27.0, 26.0, 25.0, 24.0, 23.0, 22.0, 21.0, 20.0, 19.0, 18.0, 17.0, 16.0, 15.0, 14.0, 13.0, 12.0, 11.0, 10.0, 9.0, 8.0, 7.0, 6.0, 5.0, 4.0, 3.0, 2.0, 1.0, -3.5551, -3.9574, -4.3727, -4.4388, -5.0154, -5.1101, -5.3651, -5.3707, -5.454, -5.4759, -5.5183, -5.5232, -5.6242, -5.6241, -5.6334, -5.7786, -5.7848, -5.819, -5.822, -5.859, -5.8918, -5.9146, -5.9186, -5.9589, -6.0213, -6.0347, -6.0597, -6.0792, -6.1482, -6.1855, -5.0767, -2.6412, -3.6278, -3.9987, -4.8753, -4.7546, -4.6037, -5.0043, -5.1534, -5.3655, -4.9243, -5.5624, -5.048, -5.1498, -5.2458, -5.1794, -4.9615, -5.1604, -5.1623, -5.4361, -5.4332, -3.9664, -4.2499, -4.2641, -4.7195, -4.8641, -5.1321, -5.2316, -5.4644, -5.4889, -5.4969, -5.5042, -5.5096, -5.5125, -5.5384, -5.5503, -5.5554, -5.592, -5.6727, -5.6939, -5.7329, -5.7375, -5.7795, -5.7867, -5.8288, -5.8375, -5.8876, -5.9025, -5.9401, -5.9409, -5.9553, -5.5633, -4.1222, -3.1748, -5.381, -5.0034, -3.9881, -4.0669, -3.9956, -3.3257, -4.2457, -4.2344, -4.5509, -5.1172, -4.3932, -5.34, -4.5948, -4.951, -5.1261, -5.0183, -5.0989, -5.1837, -4.8748, -5.1392, -5.0478, -5.094, -5.2733, -2.9196, -3.4547, -3.9769, -4.0481, -4.0554, -4.4086, -4.6296, -4.744, -5.0176, -5.1121, -5.1295, -5.2045, -5.2107, -5.2171, -5.2919, -5.3535, -5.3881, -5.484, -5.5335, -5.6422, -5.7134, -5.7257, -5.7589, -5.7882, -5.7973, -5.835, -5.8482, -5.884, -5.8857, -5.8908, -5.1016, -4.4892, -4.8781, -3.9772, -4.83, -2.662, -3.8312, -4.0022, -5.3765, -3.7796, -4.0245, -3.5961, -3.9067, -4.5261, -4.49, -4.3178, -4.371, -4.3497, -4.9931, -5.0368, -4.8928, -5.0131, -5.083, -4.3583, -4.6749, -4.8456, -4.862, -4.8963, -5.0054, -5.0246, -5.025, -5.025, -5.0594, -5.1106, -5.1559, -5.192, -5.3195, -5.3651, -5.3737, -5.3992, -5.4415, -5.4842, -5.6861, -5.7152, -5.7424, -5.8226, -5.8348, -5.9216, -5.9677, -6.0211, -6.042, -6.0443, -6.0451, -4.4193, -4.1465, -3.7151, -4.7335, -4.9485, -5.1353, -4.989, -4.2043, -5.4403, -4.3999, -5.3231, -4.2734, -4.2485, -4.0428, -5.1263, -4.5234, -4.567, -5.0031, -4.7299, -4.397, -4.6738, -4.8785, -4.9216, -5.0592, -4.1271, -4.4708, -4.4743, -4.7107, -4.7617, -4.8092, -4.856, -4.8831, -4.985, -4.995, -5.0256, -5.1617, -5.1917, -5.259, -5.2636, -5.3023, -5.3238, -5.3623, -5.3944, -5.4606, -5.5598, -5.6513, -5.6639, -5.6647, -5.7381, -5.8015, -5.8154, -5.8573, -5.8744, -5.8778, -2.6349, -5.7564, -3.9727, -4.9543, -4.7013, -4.7421, -4.9673, -4.4184, -5.3179, -4.7479, -4.7931, -4.9842, -5.0854, -4.6363, -4.4695, -5.1816, -5.2757, -3.6138, -4.1149, -4.2566, -4.3123, -4.3309, -4.3812, -4.3995, -4.6064, -2.9902, -4.6325, -4.7794, -5.0543, -5.1172, -5.1471, -5.1582, -5.2122, -5.2204, -5.2413, -5.2831, -5.3748, -5.4363, -5.4933, -5.5758, -5.6605, -5.7327, -5.8353, -5.8437, -5.8526, -5.9312, -5.96, -3.6609, -3.0284, -3.9113, -4.4066, -2.901, -4.311, -4.1747, -3.9812, -3.913, -3.7719, -3.977, -3.1065, -4.4307, -4.4199, -4.1701, -4.1822, -4.0022, -4.3924, -4.6009, -4.6612, -3.3577, -3.4183, -3.8088, -3.5531, -3.9592, -4.1333, -4.4489, -4.493, -4.6668, -4.6807, -4.8538, -4.9453, -5.0501, -5.1194, -5.1822, -5.1854, -5.2428, -5.3036, -5.3478, -5.3849, -5.4309, -5.5578, -5.5682, -5.5859, -5.5864, -5.6862, -5.692, -5.6928, -5.8974, -5.9019, -5.0439, -3.5116, -4.083, -4.0254, -4.2063, -2.8856, -3.3133, -3.4588, -4.7381, -3.64, -4.1096, -4.4462, -4.9105, -4.7315, -4.4852, -4.8843, -4.5121, -4.7743, -4.38, -4.8149, -4.8787, -3.5211, -3.9222, -4.0485, -4.3726, -4.4241, -4.6378, -4.6926, -4.715, -5.0085, -5.0498, -5.0905, -5.102, -5.1167, -5.1273, -5.1794, -5.18, -5.2062, -5.3301, -5.3347, -5.3759, -5.43, -5.5019, -5.5095, -5.51, -5.5372, -5.5399, -5.5836, -5.5894, -5.5953, -5.6391, -5.5601, -3.8075, -3.7692, -5.022, -4.5397, -4.8697, -5.0269, -4.0836, -4.5367, -4.9972, -5.1749, -5.1795, -5.1244, -5.2558, -2.2521, -3.3556, -3.4492, -3.5391, -3.6578, -4.2015, -5.0667, -5.1702, -5.261, -5.4524, -5.4687, -5.5003, -5.5045, -5.5548, -5.5741, -5.5837, -5.646, -5.6523, -5.7831, -5.8351, -5.8738, -5.8771, -5.8895, -5.9546, -5.9597, -6.037, -6.1855, -6.2462, -6.262, -6.263, -4.1071, -4.0515, -3.9426, -4.4415, -4.3945, -3.0705, -3.7356, -3.8743, -4.0194, -4.2541, -5.2362, -4.3425, -4.7759, -5.1083, -3.6809, -4.9166, -3.7367, -3.8986, -5.1307, -4.5222, -4.2626, -4.3955, -3.8906, -4.5678, -4.0029, -4.6334, -4.6345, -4.7461, -4.7719, -2.7479, -2.894, -3.18, -3.2507, -3.3455, -3.4003, -3.6237, -3.7928, -4.0056, -4.3931, -4.4077, -4.4286, -4.4825, -4.6681, -4.8235, -4.8463, -4.8797, -4.9288, -4.9603, -5.1323, -5.1521, -5.2133, -5.223, -5.2254, -5.2597, -5.3206, -5.5282, -5.5321, -5.6068, -5.6288, -2.462, -4.3203, -3.1083, -4.4222, -4.1513, -4.5067, -4.9199]}, \"token.table\": {\"Topic\": [4, 7, 1, 5, 8, 5, 7, 3, 4, 5, 3, 10, 3, 6, 7, 9, 7, 9, 3, 6, 7, 9, 6, 10, 3, 7, 3, 7, 4, 9, 1, 5, 7, 9, 1, 2, 3, 4, 5, 6, 7, 8, 9, 2, 3, 4, 9, 10, 2, 3, 6, 9, 1, 2, 3, 5, 8, 2, 5, 8, 1, 2, 3, 8, 2, 3, 7, 8, 2, 2, 1, 3, 9, 8, 9, 2, 3, 7, 9, 8, 2, 5, 6, 8, 9, 6, 3, 4, 5, 2, 2, 3, 4, 6, 9, 3, 7, 10, 7, 5, 5, 2, 4, 5, 8, 10, 4, 8, 4, 9, 8, 10, 6, 4, 3, 6, 3, 3, 6, 7, 4, 7, 5, 8, 8, 5, 5, 5, 8, 1, 3, 4, 5, 7, 8, 2, 3, 4, 6, 3, 1, 2, 3, 7, 6, 2, 3, 5, 6, 7, 8, 6, 7, 1, 9, 6, 1, 1, 4, 3, 6, 8, 2, 6, 7, 6, 5, 4, 6, 5, 1, 2, 5, 7, 9, 2, 1, 2, 4, 5, 6, 1, 8, 1, 5, 8, 5, 1, 3, 9, 4, 5, 4, 4, 1, 2, 2, 10, 5, 2, 4, 1, 2, 3, 4, 5, 7, 8, 4, 7, 3, 4, 7, 8, 10, 6, 4, 5, 9, 8, 7, 1, 2, 7, 2, 6, 4, 10, 3, 4, 10, 2, 7, 1, 3, 9, 3, 6, 7, 9, 4, 2, 9, 3, 6, 7, 2, 2, 3, 5, 6, 7, 9, 3, 9, 1, 8, 10, 10, 5, 10, 8, 3, 1, 7, 9, 1, 2, 4, 5, 7, 8, 10, 2, 9, 10, 4, 3, 4, 7, 7, 6, 2, 8, 9, 10, 6, 3, 1, 4, 1, 4, 7, 7, 10, 1, 1, 1, 6, 3, 4, 1, 2, 4, 8, 1, 5, 7, 8, 2, 3, 4, 6, 7, 6, 7, 2, 10, 3, 3, 6, 10, 1, 4, 9, 9, 4, 7, 5, 1, 9, 6, 2, 2, 3, 4, 6, 7, 9, 8, 2, 4, 7, 9, 1, 4, 5, 7, 8, 1, 8, 8, 1, 2, 5, 8, 5, 2, 1, 2, 3, 4, 8, 2, 7, 9, 4, 7, 9, 6, 4, 9, 2, 4, 1, 2, 5, 8, 10, 4, 3, 8, 1, 2, 3, 4, 6, 8, 9, 9, 3, 2, 3, 6, 9, 6, 7, 9, 2, 9, 4, 3, 7, 8, 2, 9, 2, 3, 8, 1, 8, 3, 2, 4, 9, 10, 4, 7, 9, 2, 9, 1, 6, 7, 1, 8, 1, 6, 7, 9, 10, 2, 7, 1, 5, 8, 2, 3, 5, 1, 4, 10, 3, 5, 6, 8, 1, 10, 4, 1, 6, 10, 1, 10, 8, 4, 8, 9, 1, 2, 4, 9, 8, 1, 2, 5, 6, 7, 8, 9, 4, 2, 3, 5, 8, 7, 7, 9, 1, 5, 8, 5, 8, 1, 7, 10, 4, 1, 8, 5, 3, 10, 3, 6, 7, 8, 1, 5, 8, 9, 7, 8, 6, 8, 2, 5, 10, 8, 1, 2, 3, 4, 5, 6, 7, 8, 7, 9, 8, 1, 4, 7, 3, 10, 1, 2, 5, 4, 4, 5, 8, 5, 6, 1, 7, 7, 10, 7, 4, 1, 4, 2, 3, 5, 3, 1, 7, 2, 7, 3, 9, 6, 6, 7, 2, 5, 10, 3, 1, 1, 9, 10, 10, 2, 3, 7, 9, 2, 6, 7, 9, 3, 2, 3, 9, 1, 1, 8, 1, 2, 3, 8, 2, 4, 5, 8, 10, 5, 5, 1, 3, 6, 7, 9, 1, 5, 1, 6, 1, 2, 3, 8, 8, 6, 2, 3, 3, 6, 3, 6, 7, 3, 9, 3, 4, 6, 9, 1, 5, 10, 2, 5, 5, 5, 10, 5, 10, 1, 2, 4, 5, 6, 8, 4, 8, 9, 4, 2, 5, 3, 4, 9, 2, 6, 2, 3, 4, 1, 8, 5, 9, 8, 1, 5, 9, 10, 9, 2, 5, 2, 5, 6, 3, 4, 9, 6, 3, 2, 3, 4, 6, 2, 1, 2, 5, 8, 5, 6, 10, 7, 1, 8, 2, 3, 4, 6, 9, 10, 7, 9, 7, 2, 5, 8, 4, 4, 9], \"Freq\": [0.9998694420604756, 0.999647044655038, 0.3844550194769342, 8.383231999060929e-05, 0.6154130610510627, 0.9998826727629704, 0.9996998197216412, 0.9998181562690883, 0.8784030138586896, 0.12136787367435287, 0.9994638652550033, 0.9993801184033094, 0.24921598286639235, 0.037195453211047176, 0.7135467445287369, 0.9996553189995504, 0.21358509784487123, 0.7861248865611891, 0.08323316300152069, 0.19741624053215928, 0.08489119413700914, 0.6343627124378848, 0.9997886936205377, 0.9996800267687016, 0.9997971911642131, 0.9997873088399232, 0.9449780177725556, 0.05485438760210944, 0.9997883948278894, 0.9991228846726274, 0.1697767778345322, 0.3362510896103909, 0.43434934276235093, 0.05959450114969875, 0.050356057870026526, 0.11070246547546883, 0.14801629131492647, 0.19127737496032352, 0.0011607586507206323, 0.18621698893246277, 0.26949164044764523, 0.01091634820958617, 0.031862172850679826, 0.5382493875797675, 0.07518979761990875, 0.08051365194086689, 0.18517754159854385, 0.12082834589304987, 0.2574043489187261, 0.1345588016170303, 0.25041469579867637, 0.35755746074847966, 0.17117684467008226, 0.10903329778912223, 0.05416142350889322, 0.6272026574239733, 0.0383643416521327, 0.2596894515464837, 0.7401083558265981, 0.9996219682528611, 0.9998184686734286, 0.00014216296043494534, 0.9212159836184458, 0.07847395416008983, 0.7140580307346884, 0.22128418073798684, 0.05516916194811192, 0.009462002470950777, 0.9997106939793347, 0.9997280015493729, 0.9997419328183716, 0.9995078062220739, 0.9986931787114927, 0.9994382235040562, 0.9988017765529129, 0.32343727443616627, 0.053976165964820896, 0.019307182226918827, 0.6033074724559374, 0.9997261493108002, 0.99979850073847, 0.9996659321539119, 0.04445941170068624, 0.2577747708706455, 0.6974289532440984, 0.999733930534269, 0.9998035338793975, 0.3403305466159333, 0.6595327317614634, 0.999722500774443, 0.9996743120215528, 0.09653030388253571, 0.9033904990937996, 0.9996342883907136, 0.999141868131469, 0.9996411024108075, 0.999906568108456, 0.9991726950169931, 0.9997273535997092, 0.9992338709829588, 0.9995380273169123, 0.1512411441525976, 0.24689997507561282, 0.43400324121181794, 0.1677806593911572, 0.9991472580548955, 0.9993569190206391, 0.9994299870584225, 0.3601976291609056, 0.6397357575596992, 0.9995556934531556, 0.9984329301232366, 0.9996397021743255, 0.999752062006984, 0.24044265190625747, 0.7595073343850993, 0.9995825682914642, 0.025667953361822433, 0.2666795660812691, 0.7076196256611554, 0.8381358503152545, 0.16176875649744726, 0.9997679762046504, 0.9995872618077267, 0.9997394008455354, 0.9995719088914331, 0.9997324237182134, 0.9996677373179156, 0.9993661888073916, 0.25262716407760927, 0.1533092179000454, 0.19977312074647385, 0.08271982703720217, 0.19514297658170737, 0.11643052578067736, 0.3470313737533019, 0.04030896882283915, 0.3026941069501016, 0.3099450433147516, 0.9995575748845021, 0.08851289074775485, 0.3800016412653975, 0.18942272482955666, 0.3419757839920514, 0.9999248542393344, 0.45833927548575004, 0.09954470711055738, 0.14571610629876855, 0.18221583223930626, 0.06362942926100969, 0.05056418645274903, 0.6772462202704854, 0.32266738556381863, 0.9998910132085792, 0.999950684511218, 0.9993849428801441, 0.999646750371311, 0.9996239111666904, 0.9997017345224567, 0.7873586378976059, 0.21247104419736862, 0.9997445758721559, 0.004192432076962891, 0.6069429377926037, 0.38883544733084746, 0.9998611682816897, 0.9994570734606082, 0.9998533719180099, 0.9995681044044042, 0.999262460539494, 0.39555991937309554, 0.2180117528858409, 0.1500178011618614, 0.03324064714425918, 0.20318771001832145, 0.9999063279464288, 0.0608652010048978, 0.7292774462311507, 0.012338785075123003, 0.1975126416876033, 0.9995214591950853, 0.9999694748854235, 0.9993919123873588, 0.9608687590683803, 0.0382803422595036, 0.0008042088709979747, 0.9998290338264579, 0.9997084011093558, 0.3576603550530932, 0.6422231877314359, 0.9995137000687452, 0.9997562359637276, 0.9996297032838913, 0.9997940130436123, 0.7795508489984431, 0.2203783020513667, 0.9997938903890761, 0.9996077070589919, 0.9998748349355536, 0.9813106272587387, 0.018391104673422802, 0.07384095382695628, 0.06419119500583997, 0.30354581146035736, 0.1218555304854233, 1.561449647429822e-05, 0.26916269022395267, 0.1674030167009512, 0.9998026254782418, 0.9996696974534864, 0.9998036463195984, 0.3088180369595755, 0.5233364686380797, 0.037509116737498766, 0.13022828170659684, 0.9999003410829725, 0.0007752720453797219, 0.9776180492238294, 0.021319981247942352, 0.9998621417593029, 0.9996247563159316, 0.9998233330173566, 0.9997649089687379, 0.9998178148928132, 0.9997133510557268, 0.9999189360787772, 0.9997411418963247, 0.9999458208079496, 0.13189399754899628, 0.8679239860910088, 0.9994101038423253, 0.9997139932738464, 0.9996282364801737, 0.9996130842326559, 0.2964226939412863, 0.7033523241936266, 0.039379130053068694, 0.773869494442062, 0.07689573368470846, 0.10984812421768174, 0.9994959349643117, 0.37309656070844394, 0.6268345453003249, 0.12497544524408863, 0.5039976438196612, 0.37100256796640907, 0.9995569596730708, 0.08040951292781878, 0.18610288122378432, 0.07276778040400764, 0.278640357552271, 0.29208311330583664, 0.08999554444621795, 0.20811935236491985, 0.7917840939333944, 0.2940912144369417, 0.3066231777761503, 0.3991488884114286, 0.9989886767214066, 0.9998673888584148, 0.9993797548360478, 0.9997428268156626, 0.9994582856413127, 0.9999814885701427, 0.9998861264268464, 0.9999160902298587, 0.09142635690342464, 0.49919265537404917, 0.1676897039367976, 0.10711677581243464, 0.05287275615557151, 0.08166928968269574, 0.999080135658792, 0.9996862803221368, 0.9304595194490722, 0.06946476236458714, 0.9996624211056906, 0.999911726009322, 0.9991340785824828, 0.9998713081346656, 0.9995855666416232, 0.9997440584088544, 0.9995171591933303, 0.9995021392691086, 0.8226209903731865, 0.17727204285525142, 0.9995923095982636, 0.9993656351378128, 0.9996665135886754, 0.9999185164617228, 0.9999570015311949, 0.9447794576134337, 0.05509188941309616, 0.9999205929406602, 0.999024521825981, 0.9995843704707496, 0.9996014084972993, 0.9998080341604346, 0.9996800239724715, 0.12424343488902774, 0.8755780175059132, 0.05046138620725147, 0.8053855057610604, 0.007442146886680972, 0.13659062273725442, 0.9995873052644729, 0.9995102468788992, 0.9179589762436277, 0.08173607322717233, 0.5023167276645616, 0.13096781214493491, 0.2448724830896528, 0.058839125124306016, 0.06298185892532024, 0.9998446519394592, 0.00012727470810604383, 0.9997371553646148, 0.9999232666797516, 0.9997110078352993, 0.9999294203383786, 0.9997602461326365, 0.9998840664241624, 0.38651237068028965, 0.6132547620480426, 0.9988817067751493, 0.998882088344743, 0.9965091131007043, 0.003366250357220462, 0.9998880626546791, 0.9998397579379547, 0.9990418713203598, 0.9997470444527629, 0.9995619646968265, 0.3364169076557029, 0.42091419461709806, 0.07288962177576722, 0.04004254970075669, 0.058250790818663564, 0.07148735349830881, 0.9998128443952341, 0.246254546320517, 0.15809189637572946, 0.5955899818244225, 0.99921917431667, 0.11284306176600574, 0.0018974599901306602, 0.13918427104076078, 0.5460220159834818, 0.19995879837171046, 0.19370621191332746, 0.8062058245464852, 0.9997325385225879, 0.0005013089332366703, 0.794198677480195, 0.14525426340532524, 0.05990641752178211, 0.9993260631183568, 0.9999278401708678, 0.5708614617443322, 0.3098314657634173, 0.025895641574312078, 0.08684925600621238, 0.006558300286976615, 0.14921384250861952, 0.12142329877492249, 0.7292879995962114, 0.9997423958411723, 0.16540393962112246, 0.8343962031315971, 0.9997222732796598, 0.9998343993515687, 0.9997643209889974, 0.9017522567591338, 0.09817854534582847, 0.4297665647556828, 0.0839700548834664, 0.16630255723399412, 0.11663013040152104, 0.20328395193619248, 0.9996823417614162, 0.999888479014891, 0.9997490437537048, 0.34720658064440557, 0.25163934358855883, 0.0965700801963473, 0.024142520049086826, 0.0005942774165929065, 0.2531250371300411, 0.02674248374668079, 0.9994672373865774, 0.9999687304802594, 0.1127419505068086, 0.3296050453145258, 0.002187692027125393, 0.555435511401747, 0.5232986079858805, 0.2481729400973397, 0.22849476694630114, 0.9995627093518762, 0.9997902238703488, 0.9993728561711333, 0.9996790487304116, 0.9996113281544081, 0.999793474535015, 0.9995656283777441, 0.9995689642286256, 0.999960253458707, 0.996817475688799, 0.002885423028817442, 0.5115236146958189, 0.48837709924724465, 0.9994375950277976, 0.13515979175783016, 0.2246059566221179, 0.3261615275270028, 0.31405212148640566, 0.7770610662129565, 0.22280706068259654, 0.9994458325167167, 0.9997827941028888, 0.9989239250672345, 0.9997078743934751, 0.9998410176242307, 0.9994472787296076, 0.2900226681784962, 0.7098279422455027, 0.24965033660293035, 0.19334517071885807, 0.34121545882752, 0.21574416567164748, 0.9998296473235024, 0.9997649786611595, 0.9996991547753167, 0.7391802389179616, 7.851925206266853e-05, 0.2606839168480595, 0.3465766069374246, 0.19320596311370292, 0.4601119314711651, 0.9996122848418104, 0.8429910081859936, 0.1569715302239697, 0.9998817994410235, 0.1426378807839804, 0.27319996445213346, 0.5840620684239265, 0.9996958700535366, 0.9997650073043147, 0.9993314529392409, 0.99992244380981, 0.9997257288935807, 0.99946438181787, 0.9997315863554246, 0.9996805061790983, 0.9999537093284442, 0.9994680209534248, 0.9995957367195123, 0.999368341250695, 0.2527932347404193, 0.5017519030967884, 0.19248193340515574, 0.052952480297664334, 0.9994753783408648, 0.05509706573980362, 0.12459406340601294, 0.09510115470112854, 0.561404832670913, 0.11750960491815558, 0.04627999512176377, 0.9993138205763863, 0.9997521372398366, 0.10656740502666122, 0.14147628353940464, 0.7519411876705402, 0.9994260989969977, 0.9995883847403106, 0.9997247241743985, 0.9999407016626956, 0.10523292057719803, 0.33861023304713594, 0.556002798087626, 0.0016300357828461936, 0.997989408047582, 0.9998984846877359, 0.9999430134115863, 0.9986321229028093, 0.9997998882492268, 0.9684065995668045, 0.03158282842291987, 0.9998747711438515, 0.9999353565226589, 0.999111106423633, 0.28770463864095075, 0.12821186631956497, 0.5840264695403649, 0.9995553332893743, 0.7349189826784809, 0.022867434255576417, 0.2421257744708091, 0.9999712859615412, 0.9991436481841993, 0.9996854445113265, 0.9999480550100079, 0.9998385257740671, 0.9172239991391672, 0.08247929106183206, 0.9996359352322326, 0.9993596909770803, 0.02438805058181273, 0.047423693225770586, 0.12286793769288146, 0.009198609362434407, 0.02850115902090855, 0.4799818717623125, 0.26711733311399743, 0.02050965756994792, 0.9999572850810761, 0.9992750917751342, 0.9995793800584888, 0.5581956203851662, 0.44167867693337887, 0.9993572638692689, 0.9996224089149855, 0.9991306192181078, 0.9995898409335604, 0.9997970241541945, 0.9997797080243187, 0.9995577701823961, 0.6393513274086267, 0.33850422471262087, 0.02208193141382467, 0.9995992635351132, 0.9997520430767114, 0.9996662898545372, 0.9998051658572362, 0.9992333050825821, 0.9998981830891062, 0.9999033648902739, 0.9995814984601818, 0.9968522973891727, 0.003040379891682837, 0.0979414324116148, 0.5576175222556627, 0.3443897422157403, 0.9998277377224787, 0.4033076726068449, 0.5966388956724312, 0.9999168957452736, 0.9995875128837822, 0.9994415406012336, 0.9993903346934777, 0.9996484382120595, 0.8300233669752798, 0.16996346252958905, 0.9999486677747748, 0.9997759793067634, 0.9997252187001047, 0.9996996777260129, 0.9998478578929852, 0.999741560687055, 0.4374850700268716, 0.5623530838833152, 0.999668141550832, 0.4471796232472519, 0.26151863733584313, 0.07815719769641287, 0.2131186634208666, 0.999686249689034, 0.8104541460771224, 0.18940931717008622, 0.9985865774118915, 0.9994549800277465, 0.999766298536095, 0.2356775318254164, 0.7640815218308142, 0.9995393987844162, 0.9594629233932269, 0.040501346111213365, 0.1466148722464907, 0.22794007932842933, 0.5431782373153652, 0.08223732047540466, 0.10839709098321218, 0.0041874205472004706, 0.6617076151064744, 0.12828733858241442, 0.09735752772241094, 0.9996635381244205, 0.9997975442929522, 0.4711314694406569, 0.27676160653848214, 0.15084111359931554, 0.07300534246255082, 0.02821409475620385, 0.832364634352359, 0.16758539998854435, 0.9997860515287812, 0.9997933415295923, 0.13068928829170393, 0.002860203279111365, 0.8662015622970343, 0.9997749754605919, 0.9999245783767096, 0.9993232383808787, 0.22608549852587256, 0.7738614124612253, 0.9997238607650822, 0.9998751770000133, 0.9996653930485515, 0.9994100130781673, 0.9996812920983662, 0.9997976079785732, 0.9991948975328377, 0.143421751582437, 0.18531775011270069, 0.4168762689736183, 0.2543463953101827, 0.9998257223248763, 0.9996070271107126, 0.9998639080427133, 0.9996756091865866, 0.999803611416333, 0.9996851302343819, 0.9994843094190057, 0.9995327923786074, 0.9997049308197419, 0.9998927502923178, 0.16644298863519327, 0.23863743024557146, 0.0707751179945976, 0.0323987909986839, 0.49064925610138316, 0.001064492711835444, 0.9996511082514454, 0.9994720010511755, 0.9999423979854263, 0.9995402391582964, 0.27171716216425773, 0.7279934111720928, 0.9996631659218714, 0.999767471613433, 0.9993732433890231, 0.9996165726561813, 0.9994091338804428, 0.47157011507045515, 0.26067221952723585, 0.2676819774135361, 0.8018019833275447, 0.19808110462819958, 0.17677774027351242, 0.8230660310731706, 0.9996482051046147, 0.937857007718052, 0.06201081566475537, 0.3652805323860703, 0.6347037740002359, 0.9996996162167197, 0.9997901449856167, 0.9993949634020552, 0.17252670453261362, 0.3527586833581656, 0.4746653077676344, 0.16539174664957512, 0.5264936401565105, 0.3080575181857006, 0.9997100148478094, 0.9997359663368305, 0.4875164998650079, 0.04998406399430745, 0.15509573804856172, 0.3073650720709553, 0.9997956825369817, 0.20246516662167036, 0.19716649146215004, 0.3790876719390136, 0.22114996849997878, 0.9998374350580396, 0.9998293010812744, 0.9999556673717863, 0.9998901773995852, 0.8535424558978701, 0.14635459906134163, 0.302102545422006, 0.3756508574248803, 0.10877322418163454, 0.022708652874501665, 0.1907200684863892, 0.9994788003875872, 0.9997759097856691, 0.9995866978220049, 0.9994123899305213, 0.12193387656477657, 0.595823018319608, 0.28218676187394154, 0.9997705380706354, 0.9995394700352853, 0.9995380718828553], \"Term\": [\"abduct\", \"according\", \"activist\", \"activist\", \"activist\", \"activity\", \"affiliate\", \"afghan\", \"agency\", \"agency\", \"aid\", \"ain\", \"air\", \"air\", \"air\", \"aircraft\", \"airport\", \"airport\", \"airstrike\", \"airstrike\", \"airstrike\", \"airstrike\", \"aleppo\", \"algerian\", \"ali\", \"ally\", \"ambush\", \"ambush\", \"amisom\", \"anbar\", \"anti\", \"anti\", \"anti\", \"anti\", \"area\", \"area\", \"area\", \"area\", \"area\", \"area\", \"area\", \"area\", \"area\", \"arm\", \"arm\", \"arm\", \"arm\", \"arm\", \"army\", \"army\", \"army\", \"army\", \"arrest\", \"arrest\", \"arrest\", \"arrest\", \"arrest\", \"assault\", \"assault\", \"assembly\", \"association\", \"assume\", \"assume\", \"assume\", \"attack\", \"attack\", \"attack\", \"attack\", \"attacker\", \"attempt\", \"authority\", \"baidoa\", \"bakara\", \"bangladesh\", \"bani\", \"battle\", \"battle\", \"battle\", \"battle\", \"bcl\", \"beat\", \"believe\", \"belong\", \"belong\", \"belong\", \"benghazi\", \"blast\", \"block\", \"block\", \"bnp\", \"boko\", \"bomb\", \"bomb\", \"bombard\", \"bombardment\", \"bomber\", \"border\", \"boumerdes\", \"brigade\", \"bring\", \"bullet\", \"burn\", \"burn\", \"burn\", \"burn\", \"burst\", \"burundi\", \"cadre\", \"camp\", \"camp\", \"candidate\", \"cannon\", \"cape\", \"car\", \"carry\", \"carry\", \"casualties\", \"casualty\", \"casualty\", \"casualty\", \"cause\", \"cause\", \"centre\", \"chairman\", \"chhatra\", \"chief\", \"chittagong\", \"christian\", \"church\", \"city\", \"city\", \"city\", \"city\", \"city\", \"city\", \"civilian\", \"civilian\", \"civilian\", \"civilian\", \"civilians\", \"claim\", \"claim\", \"claim\", \"claim\", \"clan\", \"clash\", \"clash\", \"clash\", \"clash\", \"clash\", \"clash\", \"clashes\", \"clashes\", \"club\", \"coalition\", \"coast\", \"college\", \"committee\", \"commune\", \"conduct\", \"conduct\", \"congress\", \"control\", \"control\", \"control\", \"countryside\", \"crowd\", \"damage\", \"dar\", \"date\", \"day\", \"day\", \"day\", \"day\", \"day\", \"dead\", \"death\", \"death\", \"death\", \"death\", \"deir\", \"demand\", \"democracy\", \"demonstration\", \"demonstration\", \"demonstration\", \"demonstrator\", \"department\", \"destroy\", \"destroy\", \"destruction\", \"detain\", \"detonate\", \"device\", \"dhaka\", \"dhaka\", \"die\", \"direction\", \"disperse\", \"dispute\", \"dispute\", \"district\", \"district\", \"district\", \"district\", \"district\", \"district\", \"district\", \"driver\", \"drone\", \"drug\", \"east\", \"east\", \"east\", \"east\", \"eastern\", \"egyptian\", \"egyptian\", \"egyptian\", \"election\", \"element\", \"employee\", \"escape\", \"establish\", \"ethiopian\", \"exchange\", \"explode\", \"explosion\", \"explosive\", \"explosive\", \"faa\", \"fardc\", \"farm\", \"farmer\", \"fatalities\", \"fatalities\", \"fatality\", \"fatality\", \"fatality\", \"fatality\", \"fdlr\", \"fight\", \"fight\", \"fighter\", \"fighter\", \"fighter\", \"flee\", \"force\", \"force\", \"force\", \"force\", \"force\", \"force\", \"forces\", \"forces\", \"friday\", \"friday\", \"friday\", \"frontline\", \"gas\", \"gaza\", \"general\", \"global\", \"government\", \"governorate\", \"grenade\", \"group\", \"group\", \"group\", \"group\", \"group\", \"group\", \"gspc\", \"guard\", \"gun\", \"gun\", \"gunfire\", \"gunman\", \"gunmen\", \"hadi\", \"hail\", \"hama\", \"haram\", \"hartal\", \"heavy\", \"heavy\", \"helicopter\", \"hideout\", \"high\", \"hit\", \"hold\", \"house\", \"house\", \"houthi\", \"http\", \"human\", \"hundreds\", \"hyderabad\", \"idleb\", \"ied\", \"ied\", \"incident\", \"incident\", \"incident\", \"incident\", \"increase\", \"indian\", \"information\", \"information\", \"injure\", \"injure\", \"injure\", \"injure\", \"injure\", \"injury\", \"injury\", \"insurgent\", \"involve\", \"iraqi\", \"islamic\", \"islamist\", \"israeli\", \"january\", \"january\", \"jawf\", \"jebel\", \"july\", \"july\", \"june\", \"karachi\", \"karamojong\", \"khan\", \"kidnap\", \"kill\", \"kill\", \"kill\", \"kill\", \"kill\", \"kill\", \"know\", \"launch\", \"launch\", \"launch\", \"launcher\", \"lead\", \"lead\", \"lead\", \"lead\", \"lead\", \"leader\", \"leader\", \"league\", \"leave\", \"leave\", \"leave\", \"leave\", \"link\", \"little\", \"local\", \"local\", \"local\", \"local\", \"local\", \"location\", \"location\", \"location\", \"looting\", \"loss\", \"loss\", \"loyal\", \"lra\", \"machine\", \"man\", \"man\", \"march\", \"march\", \"march\", \"march\", \"march\", \"market\", \"mayi\", \"mdc\", \"member\", \"member\", \"member\", \"member\", \"member\", \"member\", \"member\", \"mfdc\", \"militant\", \"military\", \"military\", \"military\", \"military\", \"militia\", \"militia\", \"militia\", \"mogadishu\", \"mortar\", \"mosque\", \"mosul\", \"mountain\", \"muslim\", \"myanmar\", \"naf\", \"nan\", \"narathiwat\", \"narathiwat\", \"national\", \"national\", \"nato\", \"near\", \"near\", \"near\", \"near\", \"neighbourhood\", \"neighbourhood\", \"nigeria\", \"night\", \"nihm\", \"non\", \"northern\", \"northwestern\", \"november\", \"november\", \"numb\", \"numb\", \"numb\", \"numb\", \"observe\", \"occur\", \"offensive\", \"office\", \"office\", \"office\", \"officer\", \"officer\", \"officer\", \"oil\", \"open\", \"open\", \"operation\", \"opposition\", \"opposition\", \"opposition\", \"organize\", \"osce\", \"outage\", \"outside\", \"outskirts\", \"ouzou\", \"pakistan\", \"palestinian\", \"party\", \"passenger\", \"pattani\", \"peacekeeper\", \"people\", \"people\", \"people\", \"people\", \"pkk\", \"place\", \"place\", \"place\", \"place\", \"place\", \"place\", \"plane\", \"plant\", \"police\", \"police\", \"police\", \"poll\", \"popular\", \"port\", \"position\", \"president\", \"president\", \"president\", \"presidential\", \"presidential\", \"press\", \"pro\", \"projectile\", \"property\", \"protest\", \"protest\", \"protester\", \"province\", \"rafah\", \"raid\", \"raid\", \"raid\", \"rajshahi\", \"rally\", \"rally\", \"rally\", \"rebel\", \"recapture\", \"record\", \"regime\", \"region\", \"relate\", \"relate\", \"relief\", \"religious\", \"report\", \"report\", \"report\", \"report\", \"report\", \"report\", \"report\", \"report\", \"reportedly\", \"republic\", \"residence\", \"resident\", \"resident\", \"resistance\", \"responsibility\", \"retrieved\", \"right\", \"riot\", \"rioter\", \"river\", \"road\", \"road\", \"road\", \"rural\", \"russian\", \"salary\", \"saleh\", \"sanaa\", \"saturday\", \"saudi\", \"scene\", \"school\", \"school\", \"security\", \"security\", \"security\", \"seize\", \"september\", \"september\", \"shabaab\", \"shabab\", \"shah\", \"sham\", \"sheikh\", \"shell\", \"shell\", \"shoot\", \"shop\", \"shot\", \"sinai\", \"sindh\", \"sit\", \"small\", \"small\", \"smm\", \"soldier\", \"soldier\", \"soldier\", \"soldier\", \"somali\", \"southern\", \"southern\", \"southwest\", \"special\", \"spla\", \"split\", \"split\", \"staff\", \"stage\", \"stage\", \"state\", \"state\", \"state\", \"state\", \"station\", \"station\", \"station\", \"station\", \"station\", \"stone\", \"street\", \"strike\", \"strike\", \"strike\", \"strike\", \"strike\", \"student\", \"student\", \"students\", \"sudan\", \"suicide\", \"suicide\", \"suicide\", \"sunday\", \"supporter\", \"surrender\", \"suspect\", \"suspect\", \"suspected\", \"syrian\", \"tactical\", \"tahrir\", \"taizz\", \"taliban\", \"tank\", \"target\", \"target\", \"target\", \"target\", \"teacher\", \"tear\", \"tfg\", \"think\", \"throw\", \"thursday\", \"tire\", \"tizi\", \"torture\", \"total\", \"town\", \"town\", \"town\", \"town\", \"town\", \"town\", \"traffic\", \"train\", \"troop\", \"truck\", \"try\", \"try\", \"ttp\", \"tuesday\", \"type\", \"ugandan\", \"ukraine\", \"unidentified\", \"unidentified\", \"unidentified\", \"union\", \"union\", \"unit\", \"unit\", \"unita\", \"university\", \"university\", \"unknown\", \"unknown\", \"unspecified\", \"upazila\", \"updf\", \"use\", \"use\", \"use\", \"vehicle\", \"vehicle\", \"vehicle\", \"vicinity\", \"vigilante\", \"village\", \"village\", \"village\", \"village\", \"villager\", \"violence\", \"violence\", \"violence\", \"violence\", \"violent\", \"warplanes\", \"weapon\", \"western\", \"worker\", \"worker\", \"wound\", \"wound\", \"wound\", \"wound\", \"wound\", \"www\", \"yemen\", \"yemeni\", \"yesterday\", \"youth\", \"youth\", \"youth\", \"zanu\", \"zone\", \"zor\"]}, \"R\": 30, \"lambda.step\": 0.01, \"plot.opts\": {\"xlab\": \"PC1\", \"ylab\": \"PC2\"}, \"topic.order\": [7, 10, 6, 1, 9, 8, 2, 5, 4, 3]};\n",
       "\n",
       "function LDAvis_load_lib(url, callback){\n",
       "  var s = document.createElement('script');\n",
       "  s.src = url;\n",
       "  s.async = true;\n",
       "  s.onreadystatechange = s.onload = callback;\n",
       "  s.onerror = function(){console.warn(\"failed to load library \" + url);};\n",
       "  document.getElementsByTagName(\"head\")[0].appendChild(s);\n",
       "}\n",
       "\n",
       "if(typeof(LDAvis) !== \"undefined\"){\n",
       "   // already loaded: just create the visualization\n",
       "   !function(LDAvis){\n",
       "       new LDAvis(\"#\" + \"ldavis_el1329629042274826242518644054\", ldavis_el1329629042274826242518644054_data);\n",
       "   }(LDAvis);\n",
       "}else if(typeof define === \"function\" && define.amd){\n",
       "   // require.js is available: use it to load d3/LDAvis\n",
       "   require.config({paths: {d3: \"https://cdnjs.cloudflare.com/ajax/libs/d3/3.5.5/d3.min\"}});\n",
       "   require([\"d3\"], function(d3){\n",
       "      window.d3 = d3;\n",
       "      LDAvis_load_lib(\"https://cdn.rawgit.com/bmabey/pyLDAvis/files/ldavis.v1.0.0.js\", function(){\n",
       "        new LDAvis(\"#\" + \"ldavis_el1329629042274826242518644054\", ldavis_el1329629042274826242518644054_data);\n",
       "      });\n",
       "    });\n",
       "}else{\n",
       "    // require.js not available: dynamically load d3 & LDAvis\n",
       "    LDAvis_load_lib(\"https://cdnjs.cloudflare.com/ajax/libs/d3/3.5.5/d3.min.js\", function(){\n",
       "         LDAvis_load_lib(\"https://cdn.rawgit.com/bmabey/pyLDAvis/files/ldavis.v1.0.0.js\", function(){\n",
       "                 new LDAvis(\"#\" + \"ldavis_el1329629042274826242518644054\", ldavis_el1329629042274826242518644054_data);\n",
       "            })\n",
       "         });\n",
       "}\n",
       "</script>"
      ],
      "text/plain": [
       "PreparedData(topic_coordinates=                x           y  topics  cluster       Freq\n",
       "topic                                                    \n",
       "6      135.731613  297.573364       1        1  19.516104\n",
       "9      382.902283 -133.121124       2        1  15.834622\n",
       "5       50.524933  103.428993       3        1  10.201824\n",
       "0       -1.992439  -95.287178       4        1  10.014948\n",
       "8     -131.401871  213.223465       5        1   9.554017\n",
       "7      159.696609 -273.887756       6        1   9.361443\n",
       "1     -205.424545  -19.633326       7        1   7.867996\n",
       "4     -100.382881 -279.601868       8        1   7.625384\n",
       "3      322.661011  137.885544       9        1   6.622578\n",
       "2      196.076675  -41.287067      10        1   3.401084, topic_info=      Category           Freq         Term          Total  loglift  logprob\n",
       "28702  Default  119875.000000      protest  119875.000000  30.0000  30.0000\n",
       "30065  Default   58129.000000        rebel   58129.000000  29.0000  29.0000\n",
       "28184  Default   76055.000000       police   76055.000000  28.0000  28.0000\n",
       "19037  Default  141199.000000         kill  141199.000000  27.0000  27.0000\n",
       "23392  Default   45936.000000     militant   45936.000000  26.0000  26.0000\n",
       "11749  Default  125495.000000        force  125495.000000  25.0000  25.0000\n",
       "37535  Default   38129.000000      unknown   38129.000000  24.0000  24.0000\n",
       "30361  Default   89470.000000       report   89470.000000  23.0000  23.0000\n",
       "15670  Default   39285.000000       injury   39285.000000  22.0000  22.0000\n",
       "2781   Default   77362.000000       attack   77362.000000  21.0000  21.0000\n",
       "23399  Default   46167.000000     military   46167.000000  20.0000  20.0000\n",
       "11316  Default   48858.000000     fatality   48858.000000  19.0000  19.0000\n",
       "13089  Default   46546.000000   government   46546.000000  18.0000  18.0000\n",
       "25451  Default   40381.000000         near   40381.000000  17.0000  17.0000\n",
       "34424  Default   45109.000000        stage   45109.000000  16.0000  16.0000\n",
       "38640  Default   18183.000000       weapon   18183.000000  15.0000  15.0000\n",
       "28727  Default   26902.000000     province   26902.000000  14.0000  14.0000\n",
       "28584  Default   22862.000000          pro   22862.000000  13.0000  13.0000\n",
       "30365  Default   21517.000000   reportedly   21517.000000  12.0000  12.0000\n",
       "9630   Default   64043.000000     district   64043.000000  11.0000  11.0000\n",
       "10979  Default   15712.000000    explosion   15712.000000  10.0000  10.0000\n",
       "7344   Default   19282.000000    coalition   19282.000000   9.0000   9.0000\n",
       "6406   Default   27699.000000     casualty   27699.000000   8.0000   8.0000\n",
       "8841   Default   31131.000000       demand   31131.000000   7.0000   7.0000\n",
       "30184  Default   21055.000000       regime   21055.000000   6.0000   6.0000\n",
       "27411  Default   18817.000000        party   18817.000000   5.0000   5.0000\n",
       "5379   Default   18803.000000       border   18803.000000   4.0000   4.0000\n",
       "36876  Default   17561.000000        troop   17561.000000   3.0000   3.0000\n",
       "2239   Default   76673.000000         area   76673.000000   2.0000   2.0000\n",
       "33119  Default   24199.000000        shell   24199.000000   1.0000   1.0000\n",
       "...        ...            ...          ...            ...      ...      ...\n",
       "16040  Topic10    6395.542232      israeli    6396.741597   3.3809  -3.7928\n",
       "27126  Topic10    5169.452632  palestinian    5170.651991   3.3808  -4.0056\n",
       "33356  Topic10    3508.765067         shot    3509.964473   3.3807  -4.3931\n",
       "33891  Topic10    3457.948607          smm    3459.147947   3.3807  -4.4077\n",
       "26765  Topic10    3386.596767         osce    3387.796107   3.3807  -4.4286\n",
       "1349   Topic10    3208.827656     algerian    3210.027123   3.3807  -4.4825\n",
       "38932  Topic10    2665.190327          www    2666.389721   3.3806  -4.6681\n",
       "9464   Topic10    2281.696166    direction    2282.895564   3.3806  -4.8235\n",
       "12382  Topic10    2230.184643         gaza    2231.384005   3.3805  -4.8463\n",
       "11049  Topic10    2157.073694          faa    2158.273157   3.3805  -4.8797\n",
       "30272  Topic10    2053.548599       relief    2054.748061   3.3805  -4.9288\n",
       "1022   Topic10    1990.034896          ain    1991.234330   3.3805  -4.9603\n",
       "14953  Topic10    1675.436123         http    1676.635521   3.3804  -5.1323\n",
       "36454  Topic10    1642.568587         tizi    1643.767981   3.3803  -5.1521\n",
       "29496  Topic10    1545.175151        rafah    1546.374562   3.3803  -5.2133\n",
       "13235  Topic10    1530.209146         gspc    1531.408688   3.3803  -5.2230\n",
       "26904  Topic10    1526.618935        ouzou    1527.818327   3.3803  -5.2254\n",
       "30513  Topic10    1475.084051    retrieved    1476.283452   3.3803  -5.2597\n",
       "5976   Topic10    1387.985258        burst    1389.184616   3.3802  -5.3206\n",
       "5464   Topic10    1127.734529    boumerdes    1128.933973   3.3800  -5.5282\n",
       "28638  Topic10    1123.338879   projectile    1124.538230   3.3800  -5.5321\n",
       "6268   Topic10    1042.436013       cannon    1043.635450   3.3799  -5.6068\n",
       "11909  Topic10    1019.833236    frontline    1021.032594   3.3799  -5.6288\n",
       "37535  Topic10   24200.506775      unknown   38129.598391   2.9265  -2.4620\n",
       "33875  Topic10    3774.015665        small    6711.086163   2.8055  -4.3203\n",
       "25451  Topic10   12681.546052         near   40381.831971   2.2228  -3.1083\n",
       "11891  Topic10    3408.367398       friday    8538.167333   2.4628  -4.4222\n",
       "22285  Topic10    4468.775178        march   21984.027551   1.7879  -4.1513\n",
       "2308   Topic10    3132.021376          arm   25921.069902   1.2677  -4.5067\n",
       "14362  Topic10    2071.990598        heavy   11688.250254   1.6510  -4.9199\n",
       "\n",
       "[532 rows x 6 columns], token_table=       Topic      Freq       Term\n",
       "term                             \n",
       "235        4  0.999869     abduct\n",
       "434        7  0.999647  according\n",
       "505        1  0.384455   activist\n",
       "505        5  0.000084   activist\n",
       "505        8  0.615413   activist\n",
       "511        5  0.999883   activity\n",
       "734        7  0.999700  affiliate\n",
       "744        3  0.999818     afghan\n",
       "845        4  0.878403     agency\n",
       "845        5  0.121368     agency\n",
       "997        3  0.999464        aid\n",
       "1022      10  0.999380        ain\n",
       "1030       3  0.249216        air\n",
       "1030       6  0.037195        air\n",
       "1030       7  0.713547        air\n",
       "1036       9  0.999655   aircraft\n",
       "1048       7  0.213585    airport\n",
       "1048       9  0.786125    airport\n",
       "1056       3  0.083233  airstrike\n",
       "1056       6  0.197416  airstrike\n",
       "1056       7  0.084891  airstrike\n",
       "1056       9  0.634363  airstrike\n",
       "1325       6  0.999789     aleppo\n",
       "1349      10  0.999680   algerian\n",
       "1359       3  0.999797        ali\n",
       "1453       7  0.999787       ally\n",
       "1606       3  0.944978     ambush\n",
       "1606       7  0.054854     ambush\n",
       "1657       4  0.999788     amisom\n",
       "1776       9  0.999123      anbar\n",
       "...      ...       ...        ...\n",
       "38099      2  0.487516    village\n",
       "38099      3  0.049984    village\n",
       "38099      4  0.155096    village\n",
       "38099      6  0.307365    village\n",
       "38101      2  0.999796   villager\n",
       "38128      1  0.202465   violence\n",
       "38128      2  0.197166   violence\n",
       "38128      5  0.379088   violence\n",
       "38128      8  0.221150   violence\n",
       "38130      5  0.999837    violent\n",
       "38508      6  0.999829  warplanes\n",
       "38640     10  0.999956     weapon\n",
       "38717      7  0.999890    western\n",
       "38865      1  0.853542     worker\n",
       "38865      8  0.146355     worker\n",
       "38887      2  0.302103      wound\n",
       "38887      3  0.375651      wound\n",
       "38887      4  0.108773      wound\n",
       "38887      6  0.022709      wound\n",
       "38887      9  0.190720      wound\n",
       "38932     10  0.999479        www\n",
       "39187      7  0.999776      yemen\n",
       "39188      9  0.999587     yemeni\n",
       "39204      7  0.999412  yesterday\n",
       "39275      2  0.121934      youth\n",
       "39275      5  0.595823      youth\n",
       "39275      8  0.282187      youth\n",
       "39479      4  0.999771       zanu\n",
       "39699      4  0.999539       zone\n",
       "39712      9  0.999538        zor\n",
       "\n",
       "[697 rows x 3 columns], R=30, lambda_step=0.01, plot_opts={'xlab': 'PC1', 'ylab': 'PC2'}, topic_order=[7, 10, 6, 1, 9, 8, 2, 5, 4, 3])"
      ]
     },
     "execution_count": 57,
     "metadata": {},
     "output_type": "execute_result"
    }
   ],
   "source": [
    "%%time\n",
    "pyLDAvis.enable_notebook()\n",
    "dash = pyLDAvis.sklearn.prepare(lda, data_vectorized, vectorizer, mds='tsne')\n",
    "dash"
   ]
  },
  {
   "cell_type": "code",
   "execution_count": 60,
   "metadata": {},
   "outputs": [
    {
     "data": {
      "text/plain": [
       "CountVectorizer(analyzer='word', binary=False, decode_error='strict',\n",
       "        dtype=<class 'numpy.int64'>, encoding='utf-8', input='content',\n",
       "        lowercase=True, max_df=0.9, max_features=None, min_df=5,\n",
       "        ngram_range=(1, 1), preprocessor=None, stop_words='english',\n",
       "        strip_accents=None, token_pattern='[a-zA-Z\\\\-][a-zA-Z\\\\-]{2,}',\n",
       "        tokenizer=None, vocabulary=None)"
      ]
     },
     "execution_count": 60,
     "metadata": {},
     "output_type": "execute_result"
    }
   ],
   "source": [
    "vectorizer"
   ]
  },
  {
   "cell_type": "code",
   "execution_count": null,
   "metadata": {},
   "outputs": [],
   "source": [
    "df.notes.head(5)"
   ]
  },
  {
   "cell_type": "code",
   "execution_count": 64,
   "metadata": {},
   "outputs": [
    {
     "data": {
      "text/plain": [
       "pyLDAvis._prepare.PreparedData"
      ]
     },
     "execution_count": 64,
     "metadata": {},
     "output_type": "execute_result"
    }
   ],
   "source": [
    "type(dash)"
   ]
  },
  {
   "cell_type": "markdown",
   "metadata": {},
   "source": [
    "#### Save the Topic Modeling Visualization created as an HTML file"
   ]
  },
  {
   "cell_type": "code",
   "execution_count": 77,
   "metadata": {},
   "outputs": [],
   "source": [
    "lda_vis_path = './lda_vis/'\n",
    "out_vis_file = 'full_data_10_topics.html'"
   ]
  },
  {
   "cell_type": "code",
   "execution_count": 78,
   "metadata": {},
   "outputs": [],
   "source": [
    "pyLDAvis.save_html(dash, fileobj=os.path.join(lda_vis_path, out_vis_file))"
   ]
  },
  {
   "cell_type": "code",
   "execution_count": 90,
   "metadata": {},
   "outputs": [
    {
     "data": {
      "text/plain": [
       "scipy.sparse.csr.csr_matrix"
      ]
     },
     "execution_count": 90,
     "metadata": {},
     "output_type": "execute_result"
    }
   ],
   "source": [
    "type(data_vectorized)"
   ]
  },
  {
   "cell_type": "code",
   "execution_count": 94,
   "metadata": {},
   "outputs": [
    {
     "name": "stdout",
     "output_type": "stream",
     "text": [
      "Wall time: 1min 22s\n"
     ]
    }
   ],
   "source": [
    "%%time\n",
    "\n",
    "check = lda.transform(data_vectorized)"
   ]
  },
  {
   "cell_type": "code",
   "execution_count": 105,
   "metadata": {},
   "outputs": [
    {
     "data": {
      "text/plain": [
       "array([[0.07986111, 0.00714286, 0.00714732, 0.16573761, 0.63212936,\n",
       "        0.00714328, 0.00714301, 0.00714286, 0.0794094 , 0.00714319]])"
      ]
     },
     "execution_count": 105,
     "metadata": {},
     "output_type": "execute_result"
    }
   ],
   "source": [
    "lda.transform(data_vectorized[5])"
   ]
  },
  {
   "cell_type": "code",
   "execution_count": 106,
   "metadata": {},
   "outputs": [
    {
     "data": {
      "text/plain": [
       "pandas.core.series.Series"
      ]
     },
     "execution_count": 106,
     "metadata": {},
     "output_type": "execute_result"
    }
   ],
   "source": [
    "type(df[\"processed_notes\"])"
   ]
  },
  {
   "cell_type": "code",
   "execution_count": 112,
   "metadata": {},
   "outputs": [
    {
     "data": {
      "text/plain": [
       "numpy.ndarray"
      ]
     },
     "execution_count": 112,
     "metadata": {},
     "output_type": "execute_result"
    }
   ],
   "source": [
    "type(lda.transform(data_vectorized[5])[0])"
   ]
  },
  {
   "cell_type": "code",
   "execution_count": null,
   "metadata": {},
   "outputs": [],
   "source": [
    "pyLDAvis.sklearn.prepare(lda, data_vectorized[:1000], vectorizer, mds='tsne')"
   ]
  },
  {
   "cell_type": "code",
   "execution_count": null,
   "metadata": {},
   "outputs": [],
   "source": []
  }
 ],
 "metadata": {
  "kernelspec": {
   "display_name": "Python 3",
   "language": "python",
   "name": "python3"
  },
  "language_info": {
   "codemirror_mode": {
    "name": "ipython",
    "version": 3
   },
   "file_extension": ".py",
   "mimetype": "text/x-python",
   "name": "python",
   "nbconvert_exporter": "python",
   "pygments_lexer": "ipython3",
   "version": "3.7.3"
  }
 },
 "nbformat": 4,
 "nbformat_minor": 2
}
